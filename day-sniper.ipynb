{
 "cells": [
  {
   "cell_type": "code",
   "execution_count": 35,
   "id": "8f74c917",
   "metadata": {},
   "outputs": [],
   "source": [
    "import schedule\n",
    "import time\n",
    "import datetime\n",
    "import yfinance as yf\n",
    "import robin_stocks as r\n",
    "import logging\n",
    "\n",
    "# Configure the logger\n",
    "logging.basicConfig(level=logging.INFO, format='%(asctime)s [%(levelname)s] %(message)s')\n",
    "logger = logging.getLogger()\n",
    "\n",
    "# Define the market open and close times\n",
    "market_open_time = datetime.time(hour=6, minute=30)\n",
    "market_close_time = datetime.time(hour=13)"
   ]
  },
  {
   "cell_type": "code",
   "execution_count": null,
   "id": "047f44ca",
   "metadata": {},
   "outputs": [],
   "source": [
    "# Set Robinhood API credentials\n",
    "robin_user = 'raghunadh.chilukamari@gmail.com'\n",
    "robin_pass = 'Chiluk@m@ri1991'\n",
    "\n",
    "Login to Robinhood\n",
    "r.login(username=robin_user,\n",
    "         password=robin_pass,\n",
    "         expiresIn=86400,\n",
    "         by_sms=True)"
   ]
  },
  {
   "cell_type": "code",
   "execution_count": 36,
   "id": "bcc69909",
   "metadata": {},
   "outputs": [],
   "source": [
    "# Define the stock symbols and quantities as inputs\n",
    "stock_symbols = ['SIRI']\n",
    "quantities = [1]"
   ]
  },
  {
   "cell_type": "code",
   "execution_count": 57,
   "id": "854398b7",
   "metadata": {},
   "outputs": [],
   "source": [
    "def day_sniper_strategy(symbol, quantity):\n",
    "    global buy_order_placed\n",
    "    global stop_loss_order_placed\n",
    "    \n",
    "    current_time = datetime.datetime.now().time()\n",
    "    logger.info(f\"current time is : {current_time}\")\n",
    "    \n",
    "    \n",
    "    try:\n",
    "        logger.info(f\"Running day sniper strategy for symbol: {symbol}\")\n",
    "\n",
    "        # Get historical data using yfinance or provide sample data for testing\n",
    "        data = yf.download(symbol, period='1d', interval='15m')\n",
    "        \n",
    "        # Extract the close price and low price of the first 15-minute candle\n",
    "        first_candle = data.iloc[0]\n",
    "        close_price = first_candle['Close']\n",
    "        low_price = first_candle['Low']\n",
    "        \n",
    "        if market_open_time <= current_time <= (market_open_time + datetime.timedelta(minutes=15)) and not buy_order_placed:\n",
    "\n",
    "            logger.info(f\"Placing buy order for symbol: {symbol}, quantity: {quantity}, price: {close_price}\")\n",
    "            \n",
    "            # Place the order with the close price of the first 15-minute candle          \n",
    "            # r.order_buy_limit(symbol, quantity, close_price)\n",
    "            buy_order_placed = True\n",
    "\n",
    "            logger.info(f\"Setting stop loss order for symbol: {symbol}, quantity: {quantity}, stop price: {low_price}\")\n",
    "\n",
    "            # Set the stop loss at the low price of the first 15-minute candle\n",
    "            # r.order_sell_stop_loss(symbol, quantity, low_price)\n",
    "            \n",
    "            stop_loss_order_placed = True\n",
    "\n",
    "        logger.info(\"Checking if stop loss order got executed\")\n",
    "        stop_loss_order = None\n",
    "        \n",
    "        if stop_loss_order_placed:\n",
    "\n",
    "            # Check if the stop loss order is still open\n",
    "            open_orders = []\n",
    "            # open_orders = r.orders.get_open_stock_orders()\n",
    "            # stop_loss_order_status = r.orders.get_stock_order_info(stop_loss_order['id'])['state']\n",
    "            # stop_loss_order = next((order for order in open_orders if order['side'] == 'sell' and order['stop_price'] == low_price), None)\n",
    "            \n",
    "            for order in open_orders:\n",
    "                if order['symbol'] == symbol and order['stop_price'] == low_price:\n",
    "                    stop_loss_order = order\n",
    "                    break\n",
    "\n",
    "        if stop_loss_order is None:\n",
    "            logger.info(f\"Stop loss order for symbol: {symbol} got executed\")\n",
    "        else:\n",
    "            logger.info(f\"Stop loss order for symbol: {symbol} is still open\")\n",
    "\n",
    "            # Check if it is the last candle of the day\n",
    "            last_candle = data.iloc[-1]\n",
    "            print(last_candle.name.time())\n",
    "\n",
    "            if last_candle.name.time() >= (market_close_time - datetime.timedelta(minutes=15):\n",
    "                logger.info(f\"Last candle of the day for symbol: {symbol}\")\n",
    "\n",
    "                # The stop loss order didn't get executed, place a market sell order\n",
    "                logger.info(f\"Placing market sell order for symbol: {symbol}, quantity: {quantity}\")\n",
    "                # r.order_sell_market(symbol, quantity)\n",
    "                logger.info(f\"Strategy execution completed for symbol: {symbol}\")\n",
    "                # schedule.cancel_job(job)\n",
    "\n",
    "            else:\n",
    "                logger.info(\"Regular market hours, waiting until close to check stop loss\")       \n",
    "\n",
    "    except Exception as e:\n",
    "        logger.error(f\"Error occurred while running strategy for symbol: {symbol}\")\n",
    "        logger.error(str(e))"
   ]
  },
  {
   "cell_type": "code",
   "execution_count": 58,
   "id": "ccf40034",
   "metadata": {},
   "outputs": [],
   "source": [
    "def run_day_sniper_every_15min(symbol, quantity):\n",
    "    # Get current time and check if it's within the desired time range (6:30 AM to 1:00 PM MST)\n",
    "    current_time = datetime.datetime.now().time()\n",
    "\n",
    "    if market_open_time <= current_time <= market_close_time:\n",
    "        day_sniper_strategy(symbol, quantity)\n",
    "        "
   ]
  },
  {
   "cell_type": "code",
   "execution_count": 59,
   "id": "ba382c7e",
   "metadata": {},
   "outputs": [],
   "source": [
    "# Schedule the strategy to run at the market start time for each stock symbol\n",
    "for symbol, quantity in zip(stock_symbols, quantities):\n",
    "    schedule.every().day.at(str(market_open_time)).do(day_sniper_strategy, symbol=symbol, quantity=quantity)    "
   ]
  },
  {
   "cell_type": "code",
   "execution_count": 60,
   "id": "1b3fea95",
   "metadata": {},
   "outputs": [],
   "source": [
    "\n",
    "# Schedule the strategy to run every 15 minutes for each stock symbol\n",
    "for symbol, quantity in zip(stock_symbols, quantities):\n",
    "    schedule.every(15).minutes.until(market_close_time).do(run_day_sniper_every_15min, symbol=symbol, quantity=quantity)"
   ]
  },
  {
   "cell_type": "code",
   "execution_count": 61,
   "id": "f9d5a47d",
   "metadata": {},
   "outputs": [
    {
     "ename": "KeyboardInterrupt",
     "evalue": "",
     "output_type": "error",
     "traceback": [
      "\u001b[0;31m---------------------------------------------------------------------------\u001b[0m",
      "\u001b[0;31mKeyboardInterrupt\u001b[0m                         Traceback (most recent call last)",
      "Input \u001b[0;32mIn [61]\u001b[0m, in \u001b[0;36m<cell line: 3>\u001b[0;34m()\u001b[0m\n\u001b[1;32m      6\u001b[0m     \u001b[38;5;28;01mbreak\u001b[39;00m\n\u001b[1;32m      8\u001b[0m schedule\u001b[38;5;241m.\u001b[39mrun_pending()\n\u001b[0;32m----> 9\u001b[0m \u001b[43mtime\u001b[49m\u001b[38;5;241;43m.\u001b[39;49m\u001b[43msleep\u001b[49m\u001b[43m(\u001b[49m\u001b[38;5;241;43m1\u001b[39;49m\u001b[43m)\u001b[49m\n",
      "\u001b[0;31mKeyboardInterrupt\u001b[0m: "
     ]
    }
   ],
   "source": [
    "# Keep the program running and execute scheduled tasks\n",
    "while True:\n",
    "    current_time = datetime.datetime.now().time()\n",
    "    if current_time > market_close_time:\n",
    "        logger.info(\"After market hours, exiting loop\")  \n",
    "        break\n",
    "    \n",
    "    schedule.run_pending()\n",
    "    time.sleep(1)"
   ]
  },
  {
   "cell_type": "code",
   "execution_count": 62,
   "id": "b246369f",
   "metadata": {},
   "outputs": [
    {
     "data": {
      "text/plain": [
       "[Every 1 day at 00:30:00 do day_sniper_strategy(symbol='SIRI', quantity=1) (last run: 2023-07-02 00:45:18, next run: 2023-07-03 00:30:00),\n",
       " Every 15 minutes do run_day_sniper_every_15min(symbol='SIRI', quantity=1) (last run: 2023-07-02 00:45:19, next run: 2023-07-02 01:00:19),\n",
       " Every 1 day at 00:30:00 do day_sniper_strategy(symbol='SIRI', quantity=1) (last run: [never], next run: 2023-07-03 00:30:00),\n",
       " Every 15 minutes do run_day_sniper_every_15min(symbol='SIRI', quantity=1) (last run: [never], next run: 2023-07-02 01:10:02)]"
      ]
     },
     "execution_count": 62,
     "metadata": {},
     "output_type": "execute_result"
    }
   ],
   "source": [
    "all_jobs = schedule.get_jobs()\n",
    "all_jobs"
   ]
  },
  {
   "cell_type": "code",
   "execution_count": 48,
   "id": "813961cb",
   "metadata": {},
   "outputs": [
    {
     "ename": "NameError",
     "evalue": "name 'job' is not defined",
     "output_type": "error",
     "traceback": [
      "\u001b[0;31m---------------------------------------------------------------------------\u001b[0m",
      "\u001b[0;31mNameError\u001b[0m                                 Traceback (most recent call last)",
      "Input \u001b[0;32mIn [48]\u001b[0m, in \u001b[0;36m<cell line: 1>\u001b[0;34m()\u001b[0m\n\u001b[0;32m----> 1\u001b[0m schedule\u001b[38;5;241m.\u001b[39mcancel_job(\u001b[43mjob\u001b[49m)\n",
      "\u001b[0;31mNameError\u001b[0m: name 'job' is not defined"
     ]
    }
   ],
   "source": []
  },
  {
   "cell_type": "code",
   "execution_count": null,
   "id": "c06024bf",
   "metadata": {},
   "outputs": [],
   "source": []
  }
 ],
 "metadata": {
  "kernelspec": {
   "display_name": "Python 3 (ipykernel)",
   "language": "python",
   "name": "python3"
  },
  "language_info": {
   "codemirror_mode": {
    "name": "ipython",
    "version": 3
   },
   "file_extension": ".py",
   "mimetype": "text/x-python",
   "name": "python",
   "nbconvert_exporter": "python",
   "pygments_lexer": "ipython3",
   "version": "3.9.13"
  }
 },
 "nbformat": 4,
 "nbformat_minor": 5
}
