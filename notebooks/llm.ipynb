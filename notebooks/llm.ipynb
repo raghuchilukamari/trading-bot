{
 "cells": [
  {
   "cell_type": "code",
   "execution_count": 14,
   "id": "99658334",
   "metadata": {},
   "outputs": [
    {
     "data": {
      "text/plain": [
       "True"
      ]
     },
     "execution_count": 14,
     "metadata": {},
     "output_type": "execute_result"
    }
   ],
   "source": [
    "import pandas as pd\n",
    "from dotenv import load_dotenv\n",
    "from langchain_community.tools.tavily_search import TavilySearchResults\n",
    "pd.set_option('display.max_colwidth', None)\n",
    "\n",
    "load_dotenv()"
   ]
  },
  {
   "cell_type": "code",
   "execution_count": 15,
   "id": "227148b3",
   "metadata": {},
   "outputs": [
    {
     "data": {
      "text/html": [
       "<div>\n",
       "<style scoped>\n",
       "    .dataframe tbody tr th:only-of-type {\n",
       "        vertical-align: middle;\n",
       "    }\n",
       "\n",
       "    .dataframe tbody tr th {\n",
       "        vertical-align: top;\n",
       "    }\n",
       "\n",
       "    .dataframe thead th {\n",
       "        text-align: right;\n",
       "    }\n",
       "</style>\n",
       "<table border=\"1\" class=\"dataframe\">\n",
       "  <thead>\n",
       "    <tr style=\"text-align: right;\">\n",
       "      <th></th>\n",
       "      <th>url</th>\n",
       "      <th>content</th>\n",
       "    </tr>\n",
       "  </thead>\n",
       "  <tbody>\n",
       "    <tr>\n",
       "      <th>0</th>\n",
       "      <td>https://www.reuters.com/business/retail-consumer/targets-earnings-surge-despite-holiday-sales-dip-sees-sales-recovery-2024-2024-03-05/</td>\n",
       "      <td>Stock jumps 12%, has outperformed Walmart since 2019; CEO says launching Target Circle 360 membership on April 7; ... Reuters, the news and media division of Thomson Reuters, is the world's ...</td>\n",
       "    </tr>\n",
       "    <tr>\n",
       "      <th>1</th>\n",
       "      <td>https://www.wsj.com/market-data/quotes/TGT</td>\n",
       "      <td>View the latest Target Corp. (TGT) stock price, news, historical charts, analyst ratings and financial information from WSJ.</td>\n",
       "    </tr>\n",
       "    <tr>\n",
       "      <th>2</th>\n",
       "      <td>https://finance.yahoo.com/quote/TGT/news/</td>\n",
       "      <td>S&amp;P Futures5,090.50+4.75(+0.09%)\\nDow Futures38,604.00-3.00(-0.01%)\\nNasdaq Futures17,981.50+51.25(+0.29%)\\nRussell 2000 Futures2,057.00+1.70(+0.08%)\\nCrude Oil78.36+0.21(+0.27%)\\nGold2,134.80-7.10(-0.33%)\\nLive coverage, updates, and results from Super Tuesday\\nTarget Corporation (TGT)\\nCommodity Channel Index\\nSubscribe to Yahoo Finance Plus to view Fair Value for TGT\\nIs the US consumer 'fatigued' or actually in 'a good place'?\\n Turning their attention to Target (TGT) — which COO and CFO Michael Fiddelke told Yahoo Finance the chain finds consumers to be \"remarkably resilient\" — the two analysts weigh in on the retailer's latest earnings figures. Target COO and CFO Michael Fiddelke sits down with Yahoo Finance Executive Editor Brian Sozzi to discuss the new membership program and how the company can leverage these perks to compete in the retail space. Target CFO talks Target Circle 360, new paid membership program\\nRetailer Target (TGT) will launch its paid membership program Target Circle 360 — a subscription tier of its free Target Circle loyalty program — in April. For more expert insight and the latest market action, click here to watch this full episode of Yahoo Finance Live.</td>\n",
       "    </tr>\n",
       "    <tr>\n",
       "      <th>3</th>\n",
       "      <td>https://finance.yahoo.com/news/why-target-tgt-shares-soaring-164119968.html</td>\n",
       "      <td>S&amp;P Futures\\nDow Futures\\nNasdaq Futures\\nRussell 2000 Futures\\nCrude Oil\\nGold\\nSilver\\nEUR/USD\\n10-Yr Bond\\nVix\\nGBP/USD\\nUSD/JPY\\nBitcoin USD\\nCMC Crypto 200\\nFTSE 100\\nNikkei 225\\nLive coverage, updates, and results from Super Tuesday\\nWhy Are Target (TGT) Shares Soaring Today\\nShares of general merchandise retailer Target (NYSE:TGT) jumped 12.1% in the morning session after the company reported fourth quarter results which blew past analysts' gross margin and operating profit expectations, leading to EPS outperformance versus Wall Street estimates.\\n The biggest move we wrote about over the last year was 4 months ago, when the stock gained 14.8% on the news that the company reported third quarter results that blew past analysts' EPS expectations, driven by a small beat on revenue, better profitability, and a lower-than-expected tax rate. But moves this big are very rare even for Target and that is indicating to us that this news had a significant impact on the market's perception of the business.\\n So, in that spirit, we are excited to present our Special Free Report on a profitable, fast-growing enterprise software stock that is already riding the automation wave and looking to catch the generative AI next.\\n Target is up 16.9% since the beginning of the year, and at $167.38 per share it is trading close to its 52-week high of $169.58 from April 2023.</td>\n",
       "    </tr>\n",
       "    <tr>\n",
       "      <th>4</th>\n",
       "      <td>https://www.google.com/finance/quote/TGT:NYSE</td>\n",
       "      <td>Get the latest Target Corp (TGT) real-time quote, historical performance, charts, and other financial information to help you make more informed trading and investment decisions.</td>\n",
       "    </tr>\n",
       "  </tbody>\n",
       "</table>\n",
       "</div>"
      ],
      "text/plain": [
       "                                                                                                                                      url  \\\n",
       "0  https://www.reuters.com/business/retail-consumer/targets-earnings-surge-despite-holiday-sales-dip-sees-sales-recovery-2024-2024-03-05/   \n",
       "1                                                                                              https://www.wsj.com/market-data/quotes/TGT   \n",
       "2                                                                                               https://finance.yahoo.com/quote/TGT/news/   \n",
       "3                                                             https://finance.yahoo.com/news/why-target-tgt-shares-soaring-164119968.html   \n",
       "4                                                                                           https://www.google.com/finance/quote/TGT:NYSE   \n",
       "\n",
       "                                                                                                                                                                                                                                                                                                                                                                                                                                                                                                                                                                                                                                                                                                                                                                                                                                                                                                                                                                                                                                                                                                                                                                                                                                                                                                                                                                                                                               content  \n",
       "0                                                                                                                                                                                                                                                                                                                                                                                                                                                                                                                                                                                                                                                                                                                                                                                                                                                                                                                                                                                                                                                                                                                                                                                                                                    Stock jumps 12%, has outperformed Walmart since 2019; CEO says launching Target Circle 360 membership on April 7; ... Reuters, the news and media division of Thomson Reuters, is the world's ...  \n",
       "1                                                                                                                                                                                                                                                                                                                                                                                                                                                                                                                                                                                                                                                                                                                                                                                                                                                                                                                                                                                                                                                                                                                                                                                                                                                                                                         View the latest Target Corp. (TGT) stock price, news, historical charts, analyst ratings and financial information from WSJ.  \n",
       "2                                                                                                                                                                                  S&P Futures5,090.50+4.75(+0.09%)\\nDow Futures38,604.00-3.00(-0.01%)\\nNasdaq Futures17,981.50+51.25(+0.29%)\\nRussell 2000 Futures2,057.00+1.70(+0.08%)\\nCrude Oil78.36+0.21(+0.27%)\\nGold2,134.80-7.10(-0.33%)\\nLive coverage, updates, and results from Super Tuesday\\nTarget Corporation (TGT)\\nCommodity Channel Index\\nSubscribe to Yahoo Finance Plus to view Fair Value for TGT\\nIs the US consumer 'fatigued' or actually in 'a good place'?\\n Turning their attention to Target (TGT) — which COO and CFO Michael Fiddelke told Yahoo Finance the chain finds consumers to be \"remarkably resilient\" — the two analysts weigh in on the retailer's latest earnings figures. Target COO and CFO Michael Fiddelke sits down with Yahoo Finance Executive Editor Brian Sozzi to discuss the new membership program and how the company can leverage these perks to compete in the retail space. Target CFO talks Target Circle 360, new paid membership program\\nRetailer Target (TGT) will launch its paid membership program Target Circle 360 — a subscription tier of its free Target Circle loyalty program — in April. For more expert insight and the latest market action, click here to watch this full episode of Yahoo Finance Live.  \n",
       "3  S&P Futures\\nDow Futures\\nNasdaq Futures\\nRussell 2000 Futures\\nCrude Oil\\nGold\\nSilver\\nEUR/USD\\n10-Yr Bond\\nVix\\nGBP/USD\\nUSD/JPY\\nBitcoin USD\\nCMC Crypto 200\\nFTSE 100\\nNikkei 225\\nLive coverage, updates, and results from Super Tuesday\\nWhy Are Target (TGT) Shares Soaring Today\\nShares of general merchandise retailer Target (NYSE:TGT) jumped 12.1% in the morning session after the company reported fourth quarter results which blew past analysts' gross margin and operating profit expectations, leading to EPS outperformance versus Wall Street estimates.\\n The biggest move we wrote about over the last year was 4 months ago, when the stock gained 14.8% on the news that the company reported third quarter results that blew past analysts' EPS expectations, driven by a small beat on revenue, better profitability, and a lower-than-expected tax rate. But moves this big are very rare even for Target and that is indicating to us that this news had a significant impact on the market's perception of the business.\\n So, in that spirit, we are excited to present our Special Free Report on a profitable, fast-growing enterprise software stock that is already riding the automation wave and looking to catch the generative AI next.\\n Target is up 16.9% since the beginning of the year, and at $167.38 per share it is trading close to its 52-week high of $169.58 from April 2023.  \n",
       "4                                                                                                                                                                                                                                                                                                                                                                                                                                                                                                                                                                                                                                                                                                                                                                                                                                                                                                                                                                                                                                                                                                                                                                                                                                                   Get the latest Target Corp (TGT) real-time quote, historical performance, charts, and other financial information to help you make more informed trading and investment decisions.  "
      ]
     },
     "execution_count": 15,
     "metadata": {},
     "output_type": "execute_result"
    }
   ],
   "source": [
    "tool = TavilySearchResults()\n",
    "\n",
    "res = tool.invoke({\"query\": \"TGT stock news\"})\n",
    "news = pd.DataFrame(res)\n",
    "news"
   ]
  },
  {
   "cell_type": "code",
   "execution_count": 48,
   "id": "fa69ad87",
   "metadata": {},
   "outputs": [
    {
     "data": {
      "text/html": [
       "<div>\n",
       "<style scoped>\n",
       "    .dataframe tbody tr th:only-of-type {\n",
       "        vertical-align: middle;\n",
       "    }\n",
       "\n",
       "    .dataframe tbody tr th {\n",
       "        vertical-align: top;\n",
       "    }\n",
       "\n",
       "    .dataframe thead th {\n",
       "        text-align: right;\n",
       "    }\n",
       "</style>\n",
       "<table border=\"1\" class=\"dataframe\">\n",
       "  <thead>\n",
       "    <tr style=\"text-align: right;\">\n",
       "      <th></th>\n",
       "      <th>url</th>\n",
       "      <th>content</th>\n",
       "    </tr>\n",
       "  </thead>\n",
       "  <tbody>\n",
       "    <tr>\n",
       "      <th>0</th>\n",
       "      <td>https://finance.yahoo.com/quote/AAPL/</td>\n",
       "      <td>Find the latest Apple Inc. (AAPL) stock quote, history, news and other vital information to help you with your stock trading and investing.</td>\n",
       "    </tr>\n",
       "    <tr>\n",
       "      <th>1</th>\n",
       "      <td>https://finance.yahoo.com/quote/AAPL/news/</td>\n",
       "      <td>Stay updated on the latest developments and trends of Apple Inc. (AAPL), one of the world's most valuable and influential companies. Read the latest news, analysis, and opinions on AAPL stock ...</td>\n",
       "    </tr>\n",
       "    <tr>\n",
       "      <th>2</th>\n",
       "      <td>https://www.wsj.com/market-data/quotes/AAPL</td>\n",
       "      <td>The Wall Street Journal\\nApple Inc.\\nNewsApple Inc.AAPL\\nKey Stock Data\\nShort Interest (10/31/23)\\nStock Money Flow\\nN/A\\nResearch &amp; Ratings\\nApple Inc.(AAPL)\\nPer-Share Earnings, Actuals and Estimates\\nFinancials\\nApple Inc.(AAPL)\\nCOMPETITORS (AAPL)\\nPROFILE (AAPL)\\nApple, Inc. engages in the design, manufacture, and sale of smartphones, personal computers, tablets, wearables and accessories, and other varieties of related services. FactSet (a) does not make any express or implied warranties of any kind regarding the data, including, without limitation, any warranty of merchantability or fitness for a particular purpose or use; and (b) shall not be liable for any errors, incompleteness, interruption or delay, action taken in reliance on any data, or for any damages resulting therefrom. Change value during the period between open outcry settle and the commencement of the next day's trading is calculated as the difference between the last trade and the prior day's settle. Source: Kantar Media\\nWSJ Membership\\nCustomer Service\\nTools &amp; Features\\nAds\\nMore\\nDow Jones Products Mutual Funds &amp; ETFs: All of the mutual fund and ETF information contained in this display, with the exception of the current price and price history, was supplied by Lipper, A Refinitiv Company, subject to the following: Copyright 2019© Refinitiv.</td>\n",
       "    </tr>\n",
       "    <tr>\n",
       "      <th>3</th>\n",
       "      <td>https://www.nasdaq.com/market-activity/stocks/aapl/news-headlines</td>\n",
       "      <td>Find the latest news headlines from Apple Inc. Common Stock (AAPL) at Nasdaq.com. See up-to-the-minute updates on the company's performance, outlook, and outlook for potential investment opportunities. Compare AAPL with other trending stocks and Nasdaq 100 companies.</td>\n",
       "    </tr>\n",
       "    <tr>\n",
       "      <th>4</th>\n",
       "      <td>https://www.google.com/finance/quote/AAPL:NASDAQ</td>\n",
       "      <td>Get the latest Apple Inc (AAPL) real-time quote, historical performance, charts, and other financial information to help you make more informed trading and investment decisions.</td>\n",
       "    </tr>\n",
       "  </tbody>\n",
       "</table>\n",
       "</div>"
      ],
      "text/plain": [
       "                                                                 url  \\\n",
       "0                              https://finance.yahoo.com/quote/AAPL/   \n",
       "1                         https://finance.yahoo.com/quote/AAPL/news/   \n",
       "2                        https://www.wsj.com/market-data/quotes/AAPL   \n",
       "3  https://www.nasdaq.com/market-activity/stocks/aapl/news-headlines   \n",
       "4                   https://www.google.com/finance/quote/AAPL:NASDAQ   \n",
       "\n",
       "                                                                                                                                                                                                                                                                                                                                                                                                                                                                                                                                                                                                                                                                                                                                                                                                                                                                                                                                                                                                                                                                                                                                                                                                                                                                                                                                                                                       content  \n",
       "0                                                                                                                                                                                                                                                                                                                                                                                                                                                                                                                                                                                                                                                                                                                                                                                                                                                                                                                                                                                                                                                                                                                                                                                                                                                  Find the latest Apple Inc. (AAPL) stock quote, history, news and other vital information to help you with your stock trading and investing.  \n",
       "1                                                                                                                                                                                                                                                                                                                                                                                                                                                                                                                                                                                                                                                                                                                                                                                                                                                                                                                                                                                                                                                                                                                                                                                          Stay updated on the latest developments and trends of Apple Inc. (AAPL), one of the world's most valuable and influential companies. Read the latest news, analysis, and opinions on AAPL stock ...  \n",
       "2  The Wall Street Journal\\nApple Inc.\\nNewsApple Inc.AAPL\\nKey Stock Data\\nShort Interest (10/31/23)\\nStock Money Flow\\nN/A\\nResearch & Ratings\\nApple Inc.(AAPL)\\nPer-Share Earnings, Actuals and Estimates\\nFinancials\\nApple Inc.(AAPL)\\nCOMPETITORS (AAPL)\\nPROFILE (AAPL)\\nApple, Inc. engages in the design, manufacture, and sale of smartphones, personal computers, tablets, wearables and accessories, and other varieties of related services. FactSet (a) does not make any express or implied warranties of any kind regarding the data, including, without limitation, any warranty of merchantability or fitness for a particular purpose or use; and (b) shall not be liable for any errors, incompleteness, interruption or delay, action taken in reliance on any data, or for any damages resulting therefrom. Change value during the period between open outcry settle and the commencement of the next day's trading is calculated as the difference between the last trade and the prior day's settle. Source: Kantar Media\\nWSJ Membership\\nCustomer Service\\nTools & Features\\nAds\\nMore\\nDow Jones Products Mutual Funds & ETFs: All of the mutual fund and ETF information contained in this display, with the exception of the current price and price history, was supplied by Lipper, A Refinitiv Company, subject to the following: Copyright 2019© Refinitiv.  \n",
       "3                                                                                                                                                                                                                                                                                                                                                                                                                                                                                                                                                                                                                                                                                                                                                                                                                                                                                                                                                                                                                                                                                                                  Find the latest news headlines from Apple Inc. Common Stock (AAPL) at Nasdaq.com. See up-to-the-minute updates on the company's performance, outlook, and outlook for potential investment opportunities. Compare AAPL with other trending stocks and Nasdaq 100 companies.  \n",
       "4                                                                                                                                                                                                                                                                                                                                                                                                                                                                                                                                                                                                                                                                                                                                                                                                                                                                                                                                                                                                                                                                                                                                                                                                            Get the latest Apple Inc (AAPL) real-time quote, historical performance, charts, and other financial information to help you make more informed trading and investment decisions.  "
      ]
     },
     "execution_count": 48,
     "metadata": {},
     "output_type": "execute_result"
    }
   ],
   "source": [
    "res = tool.invoke({\"query\": \"AAPL stock news\"})\n",
    "news = pd.DataFrame(res)\n",
    "news"
   ]
  },
  {
   "cell_type": "code",
   "execution_count": 42,
   "id": "c5bc7359",
   "metadata": {},
   "outputs": [],
   "source": [
    "from langchain_community.document_loaders import AsyncChromiumLoader\n",
    "from langchain_community.document_transformers import BeautifulSoupTransformer\n",
    "import nest_asyncio\n",
    "nest_asyncio.apply()\n",
    "\n",
    "# Load HTML\n",
    "loader = AsyncChromiumLoader([\"https://finance.yahoo.com/quote/TGT/news/\"])\n",
    "html = loader.load()\n",
    "print\n",
    "\n",
    "# Transform\n",
    "bs_transformer = BeautifulSoupTransformer()\n",
    "docs_transformed = bs_transformer.transform_documents(html, tags_to_extract=[\"p\",'li','span','div'])"
   ]
  },
  {
   "cell_type": "code",
   "execution_count": 43,
   "id": "6890ecad",
   "metadata": {},
   "outputs": [
    {
     "data": {
      "text/plain": [
       "[Document(page_content='Home (https://www.yahoo.com/) Mail (https://mail.yahoo.com/) News (https://news.yahoo.com/) Finance (https://finance.yahoo.com/) Sports (https://sports.yahoo.com/) Entertainment (https://www.yahoo.com/entertainment/) Search (https://search.yahoo.com/search/) Mobile (https://mobile.yahoo.com/) More... (https://www.yahoo.com/everything/) Yahoo Finance Search Tip: Try a valid symbol or a specific company name for relevant results Trending Tickers CRWD SOFI AISP PANW JWN Skip to Navigation (#Nav-0-DesktopNav) Skip to Main Content (#market-summary) Skip to Related Content (#Aside) Sign in Notifications Older News • Mar 05, 2024 Here\\'s what Biden gets wrong about \\'price gouging\\' and \\'corporate greed\\' Breaking News • Mar 05, 2024 Nasdaq leads stock slide as tech giants tumble; bitcoin sinks after touching new record-high News • Mar 05, 2024 \\'We\\'ve got a perfect storm brewing in the gold market,\\' one strategist says. Breaking News • Mar 05, 2024 Bitcoin touched a new all-time high, completing a remarkable comeback from a 2022 collapse Breaking News • Mar 05, 2024 Stocks fall at open as tech and rate-cut doubts start to creep into view News • Mar 05, 2024 How another round of government dysfunction might delay your tax refund News • Mar 05, 2024 Target CEO: We will get back to growth mode Morning Brief • Mar 05, 2024 The only FOMO trade worth chasing News • Mar 05, 2024 Max is the latest streaming platform to announce a coming password-sharing crackdown. See the details. News • Mar 05, 2024 A new CEO is trying to modernize Macy\\'s business while a battle intensifies over taking the iconic retailer private News • Mar 04, 2024 Regulators on both sides of the Atlantic have Apple in their crosshairs Breaking News • Mar 04, 2024 S&P 500, Nasdaq retreat from records as bitcoin inches closer to new highs News • Mar 04, 2024 Catch the debut of Yahoo Finance\\'s new live show, Market Domination News • Mar 04, 2024 Bank of America is the latest firm to see a bullish outcome for stocks in 2024 Breaking News • Mar 04, 2024 Dow slips at the open as US stock rally loses steam Breaking News • Mar 04, 2024 JetBlue terminates $3.8 billion Spirit deal weeks after judge blocked potential merger News • Mar 04, 2024 EU regulators have hit Apple with a multibillion-euro antitrust fine over Spotify and its app store News • Mar 04, 2024 Wall Street is getting concerned about signs of a resurgence in inflation News • Mar 03, 2024 Ford EV owners can now use Tesla\\'s supercharger network — here\\'s how it works News • Mar 03, 2024 Here are the federal income tax brackets and rates for 2023-2024 News • Mar 03, 2024 The best ways to save for the upcoming travel season News • Mar 03, 2024 Wells Fargo slowly starts to shed the problems of its past News • Mar 03, 2024 February jobs report and Powell\\'s semi-annual testimony: What to know this week News • Mar 03, 2024 Our senior columnist lost $11,300 to identity fraud. She learned that the usual safeguards don\\'t always work. News • Mar 02, 2024 Legacy media is facing a nightmarish two-pronged dilemma News • Mar 02, 2024 Google just got a painful reminder — for the second time — that market buzz around AI comes with extra scrutiny News • Mar 02, 2024 Trump said the stock market would \\'crash\\' under Biden. It hasn\\'t. News • Mar 02, 2024 As it prepares for a critical shareholder meeting, Disney made major moves on three key prongs of its business this week News • Mar 02, 2024 Uncomfortable about constant stock records lately? When you zoom out, the S&P 500\\'s growth actually looks quite average. News • Mar 02, 2024 Biden\\'s biggest domestic problem is resolving, but there\\'s new trouble ahead, our senior columnist writes News • Mar 01, 2024 Nvidia closed with a $2 trillion market cap for the first time. Here\\'s how Dell\\'s latest earnings report boosted shares. Breaking News • Mar 01, 2024 Stocks end blockbuster week with S&P 500, Nasdaq at new highs, Nvidia above $2 trillion market cap News • Mar 01, 2024 WTI crude, the US benchmark, rose above $80 per barrel for the first time since November. Here\\'s what to expect ahead. News • Mar 01, 2024 One economist thinks Wall Street should start preparing for a year without any rate cuts from the Fed Breaking News • Mar 01, 2024 Stocks open subdued to start March after record-setting rally Morning Brief • Mar 01, 2024 Apple stops \\'thinking different\\' and joins the AI herd News • Mar 01, 2024 Musk alleges the AI company and its CEO breached their contract by seeking profits News • Mar 01, 2024 12 economic issues Biden and Trump will spar over, according to our senior columnist News • Feb 29, 2024 Fed\\'s Mester still expects 3 rate cuts in 2024 after new inflation reading Breaking News • Feb 29, 2024 S&P 500, Nasdaq hit fresh records to cap best February in nearly a decade News • Feb 29, 2024 Congress moves to avert a government shutdown this weekend. The new deadline is just a week away. Breaking News • Feb 29, 2024 Stocks rise at open after key Fed inflation gauge meets expectations Breaking News • Feb 29, 2024 The Fed\\'s preferred inflation gauge ticked slightly lower last month, matching Wall Street\\'s expectations. Morning Brief • Feb 29, 2024 Daily record highs across the S&P 500 are telling investors this rally is broadening News • Feb 29, 2024 Hollywood depends heavily on sequels — and this chart explains why News • Feb 29, 2024 The rush to announce new AI products has created a confusing market. Here\\'s why some experts say that\\'s a good thing. Breaking News • Feb 28, 2024 Stock market today: Stocks slip ahead of key inflation data, bitcoin soars past $60,000 News • Feb 28, 2024 Apple is apparently abandoning long-held plans to build a car. Some analysts say the company will likely be better off. News • Feb 28, 2024 Big tech\\'s market performance is often attributed to the \\'Magnificent 7.\\' Lately, it\\'s really about three names. Breaking News • Feb 28, 2024 US stocks slip in cautious countdown to PCE print as bitcoin tops $60,000 Mail Sign in (https://login.yahoo.com/config/login?.src=finance&.intl=us&.lang=en-US&.done=https://finance.yahoo.com&activity=uh-mail&pspid=95993639) to view your mail Watchlists (/watchlists/) My Portfolio (/portfolios/) Markets (/calendar/) News (/news/) Videos (/videos/) Yahoo Finance Plus (/plus-dashboard?ncid=dcm_306158762_490172245_127172993) Screeners (/screener/) Personal Finance (/topic/personal-finance/) Crypto (/crypto/) Sectors (/sectors) Contact Us (https://yahoo.uservoice.com/forums/382977) U.S. markets open in 8 hours 23 minutes S&P Futures (/quote/ES%3DF) 5,090.25 +4.50 (+0.09%) Dow Futures (/quote/YM%3DF) 38,603.00 -4.00 (-0.01%) Nasdaq Futures (/quote/NQ%3DF) 17,979.50 +49.25 (+0.27%) Russell 2000 Futures (/quote/RTY%3DF) 2,057.50 +2.20 (+0.11%) Crude Oil (/quote/CL%3DF) 78.42 +0.27 (+0.35%) Gold (/quote/GC%3DF) 2,134.10 -7.80 (-0.36%) From Yahoo News  : Live coverage, updates, and results from Super Tuesday Target Corporation (TGT) NYSE - NYSE Delayed Price. Currency in USD Follow Visitors trend 2W 10W 9M Tip: Try a valid symbol or a specific company name for relevant results 168.58 +18.09  (+12.02%) At close:  04:00PM EST 168.40  -0.18  (-0.11%) After hours:  07:59PM EST Summary Company Insights Chart Conversations Statistics Historical Data Profile Financials Analysis Options Holders Sustainability 1d 5d 1m 6m YTD 1y 5y Max NEW: Experience our best charts yet. Everything you need for any kind of investing Full screen Trade prices are not sourced from all markets Gain actionable insight from technical analysis on financial instruments, to help optimize your trading strategies Chart Events Neutral pattern detected Commodity Channel Index View all chart patterns (/chart/TGT?technical=all&ncid=dcm_306158732_490172245_127172993) Performance Outlook Short Term 2W - 6W Mid Term 6W - 9M Long Term 9M+ Previous Close 150.49 Open 166.06 Bid 0.00 x 800 Ask 0.00 x 1100 Day\\'s Range 165.21 - 170.47 52 Week Range 102.93 - 171.24 Volume 22,983,340 Avg. Volume 3,505,118 Market Cap 77.829B Beta (5Y Monthly) 1.13 PE Ratio (TTM) 22.15 EPS (TTM) N/A Earnings Date N/A Forward Dividend & Yield 4.40 (2.83%) Ex-Dividend Date Feb 20, 2024 1y Target Est N/A Fair Value is the appropriate price for the shares of a company, based on its earnings and growth rate also interpreted as when P/E Ratio = Growth Rate. Estimated return represents the projected annual return you might expect after purchasing shares in the company and holding them over the default time horizon of 5 years, based on the EPS growth rate that we have projected. Fair Value XX.XX Undervalued 15% Est. Return Subscribe to Yahoo Finance Plus to view Fair Value for TGT Learn more View details Research that delivers an independent perspective, consistent methodology and actionable insight Related Research Target Corporation Analyst Report: Target Corporation  Target serves as the nation’s sixth-largest retailer, with its strategy predicated on delivering a gratifying in-store shopping experience and a wide product assortment of trendy apparel, home goods, and household essentials at competitive prices. Target’s upscale and stylish image began to carry national merit in the 1990s—a decade in which the brand saw its top line grow threefold to almost $30 billion—and has since cemented itself as a top U.S. retailer. Today, Target operates over 1,900 stores in the United States, generates over $100 billion in sales, and fulfills over 2 billion customer orders annually. The firm’s vast physical footprint is typically concentrated in urban and suburban markets as the firm seeks to attract a more affluent consumer base. Rating Fair Value Economic Moat 10 hours ago Morningstar Analyst Report: Target Corporation  Target serves as the nation’s sixth-largest retailer, with its strategy predicated on delivering a gratifying in-store shopping experience and a wide product assortment of trendy apparel, home goods, and household essentials at competitive prices. Target’s upscale and stylish image began to carry national merit in the 1990s—a decade in which the brand saw its top line grow threefold to almost $30 billion—and has since cemented itself as a top U.S. retailer. Today, Target operates over 1,900 stores in the United States, generates over $100 billion in sales, and fulfills over 2 billion customer orders annually. The firm’s vast physical footprint is typically concentrated in urban and suburban markets as the firm seeks to attract a more affluent consumer base. 10 hours ago • Morningstar View more All News Press Releases Research Reports SEC Filings Yahoo Finance Video Is the US consumer \\'fatigued\\' or actually in \\'a good place\\'? (/video/us-consumer-fatigued-actually-good-220549561.html) According to some retailers\\' earnings, Americans seem to still be shopping while high inflation continues to batter their wallets. How healthy is the average US consumer really, even after coming off a record holiday shopping season? Telsey Advisory Group Founder and CEO Dana Telsey and UBS US Hardline & Broadline and Food Retail Analyst Michael Lasser offer two different perspectives on the US consumer. While Telsey believes consumers are \"in a good place\" and riding several economic headwinds, Lasser finds shoppers to be \"fatigued\" while spending \"[becomes] a bit more episodic.\" Turning their attention to Target (TGT) — which COO and CFO Michael Fiddelke told Yahoo Finance the chain finds consumers to be \"remarkably resilient\" — the two analysts weigh in on the retailer\\'s latest earnings figures.For more expert insight and the latest market action, click\\xa0here\\xa0to watch this full episode of Yahoo Finance Live. Editor\\'s note: This article was written by Luke Carberry Mogan. Target soars on Q4 results: Key takeaways from retail earnings Yahoo Finance Video Magnificent Seven, Target earnings, bitcoin: Headline Blitz Yahoo Finance Video Yahoo Finance Video Target CFO talks Target Circle 360, new paid membership program (/video/target-cfo-talks-target-circle-174707599.html) Retailer Target (TGT) will launch its paid membership program Target Circle 360 — a subscription tier of its free Target Circle loyalty program — in April. Target Circle 360 will include incentives for shoppers like complimentary same-day shipping options. Target COO and CFO Michael Fiddelke sits down with Yahoo Finance Executive Editor Brian Sozzi to discuss the new membership program and how the company can leverage these perks to compete in the retail space. \"We\\'re listening to our consumers — How can we make their shopping experience even better? How can we make them fall more in love with Target, with the products we sell... with the ways to shop that make getting those products easy?\" Fiddelke states. For more expert insight and the latest market action, click\\xa0here\\xa0to watch this full episode of Yahoo Finance Live. Editor\\'s note: This article was written by Luke Carberry Mogan. Biggest risks for Target’s stock in this retail environment Yahoo Finance Video Target CFO: \\'Remarkably resilient\\' consumers in tough backdrop Yahoo Finance Video Yahoo Finance Video Retail competition: How Target will face challenges in 2024 (/video/retail-competition-target-face-challenges-145409365.html) Shares of Target (TGT) are jumping Tuesday morning after the company posted its fourth quarter earnings, revealing a jump on higher sales and beating gross profit margin expectations. The company has made several changes to organize its stores and streamline costs. Yahoo Finance Executive Editor Brian Sozzi joins the Live show to give insight into Target\\'s business model and discuss the competition the retailer faces from giants like Walmart (WMT) and Amazon Prime (AMZN). For more expert insight and the latest market action, click here to watch this full episode of Yahoo Finance Live. Editor\\'s note: This article was written by Nicholas Jacobino Data Disclaimer Help Suggestions Terms and Privacy Policy Privacy Dashboard About Our Ads Sitemap © 2024 Yahoo. All rights reserved.  Close this content, you can also use the Escape key at anytime   Recommended Stories Benzinga Mark Cuban Attacks Trump, Endorses Biden in Fiery Statement (https://finance.yahoo.com/news/mark-cuban-attacks-trump-endorses-161223145.html) Benzinga \\'The Middle Class Is On A Sinking Ship\\' — Investment Strategist Warns The American Dream Of Living Freely Is \\'Dying\\' (https://finance.yahoo.com/news/middle-class-sinking-ship-investment-175153696.html) Motley Fool 3 Magnificent Stocks That Have Created Many Millionaires, and Will Continue to Make More (https://finance.yahoo.com/news/3-magnificent-stocks-created-many-131500493.html) SmartAsset Ask an Advisor: I\\'m 77 and Still Working. Is it True That I Don\\'t Have to Take RMDs? (https://finance.yahoo.com/news/ask-advisor-im-77-still-173249409.html) Motley Fool Forget Nvidia: These 2 Artificial Intelligence (AI) Stocks Are Considerably Cheaper and Not in a Bubble (https://finance.yahoo.com/news/forget-nvidia-2-artificial-intelligence-100600681.html) Motley Fool Cathie Wood Goes Bargain Hunting: 3 Stocks She Just Bought (https://finance.yahoo.com/news/cathie-wood-goes-bargain-hunting-160500280.html) TheStreet Cathie Wood sells almost 135,000 shares of a top crypto stock (https://finance.yahoo.com/news/cathie-wood-sells-almost-135-001700470.html) SmartAsset I\\'m 60 With $1.2 Million in an IRA. Should I Convert $120,000 Per Year to a Roth to Avoid RMDs? (https://finance.yahoo.com/news/im-60-1-2-million-121000504.html) Business Insider Market prophet Gary Shilling warns stocks could crash 30% — and says the odds are \\'very much in favor of a recession\\' (https://finance.yahoo.com/news/market-prophet-gary-shilling-warns-201819119.html) Benzinga This Gold Mining CEO Says His Company\\'s Stock is a \\'Once-In-A-Generation Buy,\\' Seeks to Bounce Back from 5-Year Low (https://finance.yahoo.com/news/gold-mining-ceo-says-companys-223432976.html)', metadata={'source': 'https://finance.yahoo.com/quote/TGT/news/'})]"
      ]
     },
     "execution_count": 43,
     "metadata": {},
     "output_type": "execute_result"
    }
   ],
   "source": [
    "docs_transformed"
   ]
  },
  {
   "cell_type": "code",
   "execution_count": 36,
   "id": "59ebce65",
   "metadata": {},
   "outputs": [
    {
     "name": "stdout",
     "output_type": "stream",
     "text": [
      "[Document(page_content='<html><head><title>reuters.com</title><style>#cmsg{animation: A 1.5s;}@keyframes A{0%{opacity:0;}99%{opacity:0;}100%{opacity:1;}}</style><meta name=\"viewport\" content=\"width=device-width, initial-scale=1.0\"></head><body style=\"margin:0\"><script data-cfasync=\"false\">var dd={\\'rt\\':\\'c\\',\\'cid\\':\\'AHrlqAAAAAMA9G1BYS1wRxYArhqT0w==\\',\\'hsh\\':\\'2013457ADA70C67D6A4123E0A76873\\',\\'t\\':\\'fe\\',\\'s\\':46743,\\'e\\':\\'96da74bc8625f8d834936df712228d46f233871758e99e49c78ea3b64024c0d5\\',\\'host\\':\\'geo.captcha-delivery.com\\'}</script><script data-cfasync=\"false\" src=\"https://ct.captcha-delivery.com/c.js\"></script><iframe src=\"https://geo.captcha-delivery.com/captcha/?initialCid=AHrlqAAAAAMA9G1BYS1wRxYArhqT0w%3D%3D&amp;hash=2013457ADA70C67D6A4123E0A76873&amp;cid=wF_CIc2pr~zyirB75y_js2FbCuuAlGVtXY6EXJTD6Vbj8G0aEV~K8fwpLe004lpiDjlyaHa5tTI~GvMcUrOScSdsU6xy~dm6E7SdDiMYF2ZaKUi7iMIV81pIrms3Gws9&amp;t=fe&amp;referer=https%3A%2F%2Fwww.reuters.com%2Fbusiness%2Fretail-consumer%2Ftargets-earnings-surge-despite-holiday-sales-dip-sees-sales-recovery-2024-2024-03-05%2F&amp;s=46743&amp;e=96da74bc8625f8d834936df712228d46f233871758e99e49c78ea3b64024c0d5\" width=\"100%\" height=\"100%\" style=\"height:100vh;\" frameborder=\"0\" border=\"0\" scrolling=\"yes\"></iframe>\\n</body></html>', metadata={'source': 'https://www.reuters.com/business/retail-consumer/targets-earnings-surge-despite-holiday-sales-dip-sees-sales-recovery-2024-2024-03-05/'})]\n"
     ]
    }
   ],
   "source": [
    "loader = AsyncChromiumLoader([\"https://www.reuters.com/business/retail-consumer/targets-earnings-surge-despite-holiday-sales-dip-sees-sales-recovery-2024-2024-03-05/\"])\n",
    "html = loader.load()\n",
    "print(html)\n",
    "\n",
    "# Transform\n",
    "# bs_transformer = BeautifulSoupTransformer()\n",
    "# docs_transformed = bs_transformer.transform_documents(html, tags_to_extract=[\"li\"])"
   ]
  },
  {
   "cell_type": "code",
   "execution_count": 25,
   "id": "21ba28bf",
   "metadata": {},
   "outputs": [
    {
     "data": {
      "text/plain": [
       "[Document(page_content='', metadata={'source': 'https://www.reuters.com/business/retail-consumer/targets-earnings-surge-despite-holiday-sales-dip-sees-sales-recovery-2024-2024-03-05/'})]"
      ]
     },
     "execution_count": 25,
     "metadata": {},
     "output_type": "execute_result"
    }
   ],
   "source": [
    "docs_transformed"
   ]
  },
  {
   "cell_type": "code",
   "execution_count": 27,
   "id": "df93f73e",
   "metadata": {},
   "outputs": [
    {
     "name": "stderr",
     "output_type": "stream",
     "text": [
      "Fetching pages:   0%|                                                                                               | 0/1 [00:00<?, ?it/s]Exception ignored in: <coroutine object AsyncChromiumLoader.ascrape_playwright at 0x13ec03640>\n",
      "Traceback (most recent call last):\n",
      "  File \"<string>\", line 1, in <lambda>\n",
      "KeyError: '__import__'\n",
      "Exception ignored in: <coroutine object AsyncChromiumLoader.ascrape_playwright at 0x13ec03640>\n",
      "Traceback (most recent call last):\n",
      "  File \"<string>\", line 1, in <lambda>\n",
      "KeyError: '__import__'\n"
     ]
    },
    {
     "ename": "ClientResponseError",
     "evalue": "400, message='Got more than 8190 bytes (8632) when reading Header value is too long.', url=URL('https://finance.yahoo.com/quote/TGT/news/')",
     "output_type": "error",
     "traceback": [
      "\u001b[0;31m---------------------------------------------------------------------------\u001b[0m",
      "\u001b[0;31mLineTooLong\u001b[0m                               Traceback (most recent call last)",
      "File \u001b[0;32m/usr/local/lib/python3.9/site-packages/aiohttp/client_reqrep.py:899\u001b[0m, in \u001b[0;36mClientResponse.start\u001b[0;34m(self, connection)\u001b[0m\n\u001b[1;32m    898\u001b[0m     protocol \u001b[38;5;241m=\u001b[39m \u001b[38;5;28mself\u001b[39m\u001b[38;5;241m.\u001b[39m_protocol\n\u001b[0;32m--> 899\u001b[0m     message, payload \u001b[38;5;241m=\u001b[39m \u001b[38;5;28;01mawait\u001b[39;00m protocol\u001b[38;5;241m.\u001b[39mread()  \u001b[38;5;66;03m# type: ignore[union-attr]\u001b[39;00m\n\u001b[1;32m    900\u001b[0m \u001b[38;5;28;01mexcept\u001b[39;00m http\u001b[38;5;241m.\u001b[39mHttpProcessingError \u001b[38;5;28;01mas\u001b[39;00m exc:\n",
      "File \u001b[0;32m/usr/local/lib/python3.9/site-packages/aiohttp/streams.py:616\u001b[0m, in \u001b[0;36mDataQueue.read\u001b[0;34m(self)\u001b[0m\n\u001b[1;32m    615\u001b[0m \u001b[38;5;28;01mtry\u001b[39;00m:\n\u001b[0;32m--> 616\u001b[0m     \u001b[38;5;28;01mawait\u001b[39;00m \u001b[38;5;28mself\u001b[39m\u001b[38;5;241m.\u001b[39m_waiter\n\u001b[1;32m    617\u001b[0m \u001b[38;5;28;01mexcept\u001b[39;00m (asyncio\u001b[38;5;241m.\u001b[39mCancelledError, asyncio\u001b[38;5;241m.\u001b[39mTimeoutError):\n",
      "File \u001b[0;32m/usr/local/Cellar/python@3.9/3.9.13_1/Frameworks/Python.framework/Versions/3.9/lib/python3.9/asyncio/futures.py:284\u001b[0m, in \u001b[0;36mFuture.__await__\u001b[0;34m(self)\u001b[0m\n\u001b[1;32m    283\u001b[0m     \u001b[38;5;28mself\u001b[39m\u001b[38;5;241m.\u001b[39m_asyncio_future_blocking \u001b[38;5;241m=\u001b[39m \u001b[38;5;28;01mTrue\u001b[39;00m\n\u001b[0;32m--> 284\u001b[0m     \u001b[38;5;28;01myield\u001b[39;00m \u001b[38;5;28mself\u001b[39m  \u001b[38;5;66;03m# This tells Task to wait for completion.\u001b[39;00m\n\u001b[1;32m    285\u001b[0m \u001b[38;5;28;01mif\u001b[39;00m \u001b[38;5;129;01mnot\u001b[39;00m \u001b[38;5;28mself\u001b[39m\u001b[38;5;241m.\u001b[39mdone():\n",
      "File \u001b[0;32m/usr/local/Cellar/python@3.9/3.9.13_1/Frameworks/Python.framework/Versions/3.9/lib/python3.9/asyncio/tasks.py:328\u001b[0m, in \u001b[0;36mTask.__wakeup\u001b[0;34m(self, future)\u001b[0m\n\u001b[1;32m    327\u001b[0m \u001b[38;5;28;01mtry\u001b[39;00m:\n\u001b[0;32m--> 328\u001b[0m     \u001b[43mfuture\u001b[49m\u001b[38;5;241;43m.\u001b[39;49m\u001b[43mresult\u001b[49m\u001b[43m(\u001b[49m\u001b[43m)\u001b[49m\n\u001b[1;32m    329\u001b[0m \u001b[38;5;28;01mexcept\u001b[39;00m \u001b[38;5;167;01mBaseException\u001b[39;00m \u001b[38;5;28;01mas\u001b[39;00m exc:\n\u001b[1;32m    330\u001b[0m     \u001b[38;5;66;03m# This may also be a cancellation.\u001b[39;00m\n",
      "File \u001b[0;32m/usr/local/Cellar/python@3.9/3.9.13_1/Frameworks/Python.framework/Versions/3.9/lib/python3.9/asyncio/futures.py:201\u001b[0m, in \u001b[0;36mFuture.result\u001b[0;34m(self)\u001b[0m\n\u001b[1;32m    200\u001b[0m \u001b[38;5;28;01mif\u001b[39;00m \u001b[38;5;28mself\u001b[39m\u001b[38;5;241m.\u001b[39m_exception \u001b[38;5;129;01mis\u001b[39;00m \u001b[38;5;129;01mnot\u001b[39;00m \u001b[38;5;28;01mNone\u001b[39;00m:\n\u001b[0;32m--> 201\u001b[0m     \u001b[38;5;28;01mraise\u001b[39;00m \u001b[38;5;28mself\u001b[39m\u001b[38;5;241m.\u001b[39m_exception\n\u001b[1;32m    202\u001b[0m \u001b[38;5;28;01mreturn\u001b[39;00m \u001b[38;5;28mself\u001b[39m\u001b[38;5;241m.\u001b[39m_result\n",
      "File \u001b[0;32m/usr/local/lib/python3.9/site-packages/aiohttp/client_proto.py:213\u001b[0m, in \u001b[0;36mResponseHandler.data_received\u001b[0;34m(self, data)\u001b[0m\n\u001b[1;32m    212\u001b[0m \u001b[38;5;28;01mtry\u001b[39;00m:\n\u001b[0;32m--> 213\u001b[0m     messages, upgraded, tail \u001b[38;5;241m=\u001b[39m \u001b[38;5;28;43mself\u001b[39;49m\u001b[38;5;241;43m.\u001b[39;49m\u001b[43m_parser\u001b[49m\u001b[38;5;241;43m.\u001b[39;49m\u001b[43mfeed_data\u001b[49m\u001b[43m(\u001b[49m\u001b[43mdata\u001b[49m\u001b[43m)\u001b[49m\n\u001b[1;32m    214\u001b[0m \u001b[38;5;28;01mexcept\u001b[39;00m \u001b[38;5;167;01mBaseException\u001b[39;00m \u001b[38;5;28;01mas\u001b[39;00m exc:\n",
      "File \u001b[0;32m/usr/local/lib/python3.9/site-packages/aiohttp/_http_parser.pyx:551\u001b[0m, in \u001b[0;36maiohttp._http_parser.HttpParser.feed_data\u001b[0;34m()\u001b[0m\n",
      "File \u001b[0;32m/usr/local/lib/python3.9/site-packages/aiohttp/_http_parser.pyx:721\u001b[0m, in \u001b[0;36maiohttp._http_parser.cb_on_header_value\u001b[0;34m()\u001b[0m\n",
      "\u001b[0;31mLineTooLong\u001b[0m: 400, message='Got more than 8190 bytes (8632) when reading Header value is too long.'",
      "\nThe above exception was the direct cause of the following exception:\n",
      "\u001b[0;31mClientResponseError\u001b[0m                       Traceback (most recent call last)",
      "Input \u001b[0;32mIn [27]\u001b[0m, in \u001b[0;36m<cell line: 5>\u001b[0;34m()\u001b[0m\n\u001b[1;32m      3\u001b[0m urls \u001b[38;5;241m=\u001b[39m [\u001b[38;5;124m\"\u001b[39m\u001b[38;5;124mhttps://finance.yahoo.com/quote/TGT/news/\u001b[39m\u001b[38;5;124m\"\u001b[39m]\n\u001b[1;32m      4\u001b[0m loader \u001b[38;5;241m=\u001b[39m AsyncHtmlLoader(urls)\n\u001b[0;32m----> 5\u001b[0m docs \u001b[38;5;241m=\u001b[39m \u001b[43mloader\u001b[49m\u001b[38;5;241;43m.\u001b[39;49m\u001b[43mload\u001b[49m\u001b[43m(\u001b[49m\u001b[43m)\u001b[49m\n",
      "File \u001b[0;32m/usr/local/lib/python3.9/site-packages/langchain_community/document_loaders/async_html.py:211\u001b[0m, in \u001b[0;36mAsyncHtmlLoader.load\u001b[0;34m(self)\u001b[0m\n\u001b[1;32m    209\u001b[0m     \u001b[38;5;28;01mwith\u001b[39;00m ThreadPoolExecutor(max_workers\u001b[38;5;241m=\u001b[39m\u001b[38;5;241m1\u001b[39m) \u001b[38;5;28;01mas\u001b[39;00m executor:\n\u001b[1;32m    210\u001b[0m         future \u001b[38;5;241m=\u001b[39m executor\u001b[38;5;241m.\u001b[39msubmit(asyncio\u001b[38;5;241m.\u001b[39mrun, \u001b[38;5;28mself\u001b[39m\u001b[38;5;241m.\u001b[39mfetch_all(\u001b[38;5;28mself\u001b[39m\u001b[38;5;241m.\u001b[39mweb_paths))\n\u001b[0;32m--> 211\u001b[0m         results \u001b[38;5;241m=\u001b[39m \u001b[43mfuture\u001b[49m\u001b[38;5;241;43m.\u001b[39;49m\u001b[43mresult\u001b[49m\u001b[43m(\u001b[49m\u001b[43m)\u001b[49m\n\u001b[1;32m    212\u001b[0m \u001b[38;5;28;01mexcept\u001b[39;00m \u001b[38;5;167;01mRuntimeError\u001b[39;00m:\n\u001b[1;32m    213\u001b[0m     results \u001b[38;5;241m=\u001b[39m asyncio\u001b[38;5;241m.\u001b[39mrun(\u001b[38;5;28mself\u001b[39m\u001b[38;5;241m.\u001b[39mfetch_all(\u001b[38;5;28mself\u001b[39m\u001b[38;5;241m.\u001b[39mweb_paths))\n",
      "File \u001b[0;32m/usr/local/Cellar/python@3.9/3.9.13_1/Frameworks/Python.framework/Versions/3.9/lib/python3.9/concurrent/futures/_base.py:446\u001b[0m, in \u001b[0;36mFuture.result\u001b[0;34m(self, timeout)\u001b[0m\n\u001b[1;32m    444\u001b[0m     \u001b[38;5;28;01mraise\u001b[39;00m CancelledError()\n\u001b[1;32m    445\u001b[0m \u001b[38;5;28;01melif\u001b[39;00m \u001b[38;5;28mself\u001b[39m\u001b[38;5;241m.\u001b[39m_state \u001b[38;5;241m==\u001b[39m FINISHED:\n\u001b[0;32m--> 446\u001b[0m     \u001b[38;5;28;01mreturn\u001b[39;00m \u001b[38;5;28;43mself\u001b[39;49m\u001b[38;5;241;43m.\u001b[39;49m\u001b[43m__get_result\u001b[49m\u001b[43m(\u001b[49m\u001b[43m)\u001b[49m\n\u001b[1;32m    447\u001b[0m \u001b[38;5;28;01melse\u001b[39;00m:\n\u001b[1;32m    448\u001b[0m     \u001b[38;5;28;01mraise\u001b[39;00m \u001b[38;5;167;01mTimeoutError\u001b[39;00m()\n",
      "File \u001b[0;32m/usr/local/Cellar/python@3.9/3.9.13_1/Frameworks/Python.framework/Versions/3.9/lib/python3.9/concurrent/futures/_base.py:391\u001b[0m, in \u001b[0;36mFuture.__get_result\u001b[0;34m(self)\u001b[0m\n\u001b[1;32m    389\u001b[0m \u001b[38;5;28;01mif\u001b[39;00m \u001b[38;5;28mself\u001b[39m\u001b[38;5;241m.\u001b[39m_exception:\n\u001b[1;32m    390\u001b[0m     \u001b[38;5;28;01mtry\u001b[39;00m:\n\u001b[0;32m--> 391\u001b[0m         \u001b[38;5;28;01mraise\u001b[39;00m \u001b[38;5;28mself\u001b[39m\u001b[38;5;241m.\u001b[39m_exception\n\u001b[1;32m    392\u001b[0m     \u001b[38;5;28;01mfinally\u001b[39;00m:\n\u001b[1;32m    393\u001b[0m         \u001b[38;5;66;03m# Break a reference cycle with the exception in self._exception\u001b[39;00m\n\u001b[1;32m    394\u001b[0m         \u001b[38;5;28mself\u001b[39m \u001b[38;5;241m=\u001b[39m \u001b[38;5;28;01mNone\u001b[39;00m\n",
      "File \u001b[0;32m/usr/local/Cellar/python@3.9/3.9.13_1/Frameworks/Python.framework/Versions/3.9/lib/python3.9/concurrent/futures/thread.py:58\u001b[0m, in \u001b[0;36m_WorkItem.run\u001b[0;34m(self)\u001b[0m\n\u001b[1;32m     55\u001b[0m     \u001b[38;5;28;01mreturn\u001b[39;00m\n\u001b[1;32m     57\u001b[0m \u001b[38;5;28;01mtry\u001b[39;00m:\n\u001b[0;32m---> 58\u001b[0m     result \u001b[38;5;241m=\u001b[39m \u001b[38;5;28;43mself\u001b[39;49m\u001b[38;5;241;43m.\u001b[39;49m\u001b[43mfn\u001b[49m\u001b[43m(\u001b[49m\u001b[38;5;241;43m*\u001b[39;49m\u001b[38;5;28;43mself\u001b[39;49m\u001b[38;5;241;43m.\u001b[39;49m\u001b[43margs\u001b[49m\u001b[43m,\u001b[49m\u001b[43m \u001b[49m\u001b[38;5;241;43m*\u001b[39;49m\u001b[38;5;241;43m*\u001b[39;49m\u001b[38;5;28;43mself\u001b[39;49m\u001b[38;5;241;43m.\u001b[39;49m\u001b[43mkwargs\u001b[49m\u001b[43m)\u001b[49m\n\u001b[1;32m     59\u001b[0m \u001b[38;5;28;01mexcept\u001b[39;00m \u001b[38;5;167;01mBaseException\u001b[39;00m \u001b[38;5;28;01mas\u001b[39;00m exc:\n\u001b[1;32m     60\u001b[0m     \u001b[38;5;28mself\u001b[39m\u001b[38;5;241m.\u001b[39mfuture\u001b[38;5;241m.\u001b[39mset_exception(exc)\n",
      "File \u001b[0;32m/usr/local/lib/python3.9/site-packages/nest_asyncio.py:35\u001b[0m, in \u001b[0;36m_patch_asyncio.<locals>.run\u001b[0;34m(main, debug)\u001b[0m\n\u001b[1;32m     33\u001b[0m task \u001b[38;5;241m=\u001b[39m asyncio\u001b[38;5;241m.\u001b[39mensure_future(main)\n\u001b[1;32m     34\u001b[0m \u001b[38;5;28;01mtry\u001b[39;00m:\n\u001b[0;32m---> 35\u001b[0m     \u001b[38;5;28;01mreturn\u001b[39;00m \u001b[43mloop\u001b[49m\u001b[38;5;241;43m.\u001b[39;49m\u001b[43mrun_until_complete\u001b[49m\u001b[43m(\u001b[49m\u001b[43mtask\u001b[49m\u001b[43m)\u001b[49m\n\u001b[1;32m     36\u001b[0m \u001b[38;5;28;01mfinally\u001b[39;00m:\n\u001b[1;32m     37\u001b[0m     \u001b[38;5;28;01mif\u001b[39;00m \u001b[38;5;129;01mnot\u001b[39;00m task\u001b[38;5;241m.\u001b[39mdone():\n",
      "File \u001b[0;32m/usr/local/lib/python3.9/site-packages/nest_asyncio.py:89\u001b[0m, in \u001b[0;36m_patch_loop.<locals>.run_until_complete\u001b[0;34m(self, future)\u001b[0m\n\u001b[1;32m     86\u001b[0m \u001b[38;5;28;01mif\u001b[39;00m \u001b[38;5;129;01mnot\u001b[39;00m f\u001b[38;5;241m.\u001b[39mdone():\n\u001b[1;32m     87\u001b[0m     \u001b[38;5;28;01mraise\u001b[39;00m \u001b[38;5;167;01mRuntimeError\u001b[39;00m(\n\u001b[1;32m     88\u001b[0m         \u001b[38;5;124m'\u001b[39m\u001b[38;5;124mEvent loop stopped before Future completed.\u001b[39m\u001b[38;5;124m'\u001b[39m)\n\u001b[0;32m---> 89\u001b[0m \u001b[38;5;28;01mreturn\u001b[39;00m \u001b[43mf\u001b[49m\u001b[38;5;241;43m.\u001b[39;49m\u001b[43mresult\u001b[49m\u001b[43m(\u001b[49m\u001b[43m)\u001b[49m\n",
      "File \u001b[0;32m/usr/local/Cellar/python@3.9/3.9.13_1/Frameworks/Python.framework/Versions/3.9/lib/python3.9/asyncio/futures.py:201\u001b[0m, in \u001b[0;36mFuture.result\u001b[0;34m(self)\u001b[0m\n\u001b[1;32m    199\u001b[0m \u001b[38;5;28mself\u001b[39m\u001b[38;5;241m.\u001b[39m__log_traceback \u001b[38;5;241m=\u001b[39m \u001b[38;5;28;01mFalse\u001b[39;00m\n\u001b[1;32m    200\u001b[0m \u001b[38;5;28;01mif\u001b[39;00m \u001b[38;5;28mself\u001b[39m\u001b[38;5;241m.\u001b[39m_exception \u001b[38;5;129;01mis\u001b[39;00m \u001b[38;5;129;01mnot\u001b[39;00m \u001b[38;5;28;01mNone\u001b[39;00m:\n\u001b[0;32m--> 201\u001b[0m     \u001b[38;5;28;01mraise\u001b[39;00m \u001b[38;5;28mself\u001b[39m\u001b[38;5;241m.\u001b[39m_exception\n\u001b[1;32m    202\u001b[0m \u001b[38;5;28;01mreturn\u001b[39;00m \u001b[38;5;28mself\u001b[39m\u001b[38;5;241m.\u001b[39m_result\n",
      "File \u001b[0;32m/usr/local/Cellar/python@3.9/3.9.13_1/Frameworks/Python.framework/Versions/3.9/lib/python3.9/asyncio/tasks.py:256\u001b[0m, in \u001b[0;36mTask.__step\u001b[0;34m(***failed resolving arguments***)\u001b[0m\n\u001b[1;32m    252\u001b[0m \u001b[38;5;28;01mtry\u001b[39;00m:\n\u001b[1;32m    253\u001b[0m     \u001b[38;5;28;01mif\u001b[39;00m exc \u001b[38;5;129;01mis\u001b[39;00m \u001b[38;5;28;01mNone\u001b[39;00m:\n\u001b[1;32m    254\u001b[0m         \u001b[38;5;66;03m# We use the `send` method directly, because coroutines\u001b[39;00m\n\u001b[1;32m    255\u001b[0m         \u001b[38;5;66;03m# don't have `__iter__` and `__next__` methods.\u001b[39;00m\n\u001b[0;32m--> 256\u001b[0m         result \u001b[38;5;241m=\u001b[39m \u001b[43mcoro\u001b[49m\u001b[38;5;241;43m.\u001b[39;49m\u001b[43msend\u001b[49m\u001b[43m(\u001b[49m\u001b[38;5;28;43;01mNone\u001b[39;49;00m\u001b[43m)\u001b[49m\n\u001b[1;32m    257\u001b[0m     \u001b[38;5;28;01melse\u001b[39;00m:\n\u001b[1;32m    258\u001b[0m         result \u001b[38;5;241m=\u001b[39m coro\u001b[38;5;241m.\u001b[39mthrow(exc)\n",
      "File \u001b[0;32m/usr/local/lib/python3.9/site-packages/langchain_community/document_loaders/async_html.py:189\u001b[0m, in \u001b[0;36mAsyncHtmlLoader.fetch_all\u001b[0;34m(self, urls)\u001b[0m\n\u001b[1;32m    186\u001b[0m \u001b[38;5;28;01mtry\u001b[39;00m:\n\u001b[1;32m    187\u001b[0m     \u001b[38;5;28;01mfrom\u001b[39;00m \u001b[38;5;21;01mtqdm\u001b[39;00m\u001b[38;5;21;01m.\u001b[39;00m\u001b[38;5;21;01masyncio\u001b[39;00m \u001b[38;5;28;01mimport\u001b[39;00m tqdm_asyncio\n\u001b[0;32m--> 189\u001b[0m     \u001b[38;5;28;01mreturn\u001b[39;00m \u001b[38;5;28;01mawait\u001b[39;00m tqdm_asyncio\u001b[38;5;241m.\u001b[39mgather(\n\u001b[1;32m    190\u001b[0m         \u001b[38;5;241m*\u001b[39mtasks, desc\u001b[38;5;241m=\u001b[39m\u001b[38;5;124m\"\u001b[39m\u001b[38;5;124mFetching pages\u001b[39m\u001b[38;5;124m\"\u001b[39m, ascii\u001b[38;5;241m=\u001b[39m\u001b[38;5;28;01mTrue\u001b[39;00m, mininterval\u001b[38;5;241m=\u001b[39m\u001b[38;5;241m1\u001b[39m\n\u001b[1;32m    191\u001b[0m     )\n\u001b[1;32m    192\u001b[0m \u001b[38;5;28;01mexcept\u001b[39;00m \u001b[38;5;167;01mImportError\u001b[39;00m:\n\u001b[1;32m    193\u001b[0m     warnings\u001b[38;5;241m.\u001b[39mwarn(\u001b[38;5;124m\"\u001b[39m\u001b[38;5;124mFor better logging of progress, `pip install tqdm`\u001b[39m\u001b[38;5;124m\"\u001b[39m)\n",
      "File \u001b[0;32m/usr/local/lib/python3.9/site-packages/tqdm/asyncio.py:79\u001b[0m, in \u001b[0;36mtqdm_asyncio.gather\u001b[0;34m(cls, loop, timeout, total, *fs, **tqdm_kwargs)\u001b[0m\n\u001b[1;32m     76\u001b[0m     \u001b[38;5;28;01mreturn\u001b[39;00m i, \u001b[38;5;28;01mawait\u001b[39;00m f\n\u001b[1;32m     78\u001b[0m ifs \u001b[38;5;241m=\u001b[39m [wrap_awaitable(i, f) \u001b[38;5;28;01mfor\u001b[39;00m i, f \u001b[38;5;129;01min\u001b[39;00m \u001b[38;5;28menumerate\u001b[39m(fs)]\n\u001b[0;32m---> 79\u001b[0m res \u001b[38;5;241m=\u001b[39m [\u001b[38;5;28;01mawait\u001b[39;00m f \u001b[38;5;28;01mfor\u001b[39;00m f \u001b[38;5;129;01min\u001b[39;00m \u001b[38;5;28mcls\u001b[39m\u001b[38;5;241m.\u001b[39mas_completed(ifs, loop\u001b[38;5;241m=\u001b[39mloop, timeout\u001b[38;5;241m=\u001b[39mtimeout,\n\u001b[1;32m     80\u001b[0m                                          total\u001b[38;5;241m=\u001b[39mtotal, \u001b[38;5;241m*\u001b[39m\u001b[38;5;241m*\u001b[39mtqdm_kwargs)]\n\u001b[1;32m     81\u001b[0m \u001b[38;5;28;01mreturn\u001b[39;00m [i \u001b[38;5;28;01mfor\u001b[39;00m _, i \u001b[38;5;129;01min\u001b[39;00m \u001b[38;5;28msorted\u001b[39m(res)]\n",
      "File \u001b[0;32m/usr/local/lib/python3.9/site-packages/tqdm/asyncio.py:79\u001b[0m, in \u001b[0;36m<listcomp>\u001b[0;34m(.0)\u001b[0m\n\u001b[1;32m     76\u001b[0m     \u001b[38;5;28;01mreturn\u001b[39;00m i, \u001b[38;5;28;01mawait\u001b[39;00m f\n\u001b[1;32m     78\u001b[0m ifs \u001b[38;5;241m=\u001b[39m [wrap_awaitable(i, f) \u001b[38;5;28;01mfor\u001b[39;00m i, f \u001b[38;5;129;01min\u001b[39;00m \u001b[38;5;28menumerate\u001b[39m(fs)]\n\u001b[0;32m---> 79\u001b[0m res \u001b[38;5;241m=\u001b[39m [\u001b[38;5;28;01mawait\u001b[39;00m f \u001b[38;5;28;01mfor\u001b[39;00m f \u001b[38;5;129;01min\u001b[39;00m \u001b[38;5;28mcls\u001b[39m\u001b[38;5;241m.\u001b[39mas_completed(ifs, loop\u001b[38;5;241m=\u001b[39mloop, timeout\u001b[38;5;241m=\u001b[39mtimeout,\n\u001b[1;32m     80\u001b[0m                                          total\u001b[38;5;241m=\u001b[39mtotal, \u001b[38;5;241m*\u001b[39m\u001b[38;5;241m*\u001b[39mtqdm_kwargs)]\n\u001b[1;32m     81\u001b[0m \u001b[38;5;28;01mreturn\u001b[39;00m [i \u001b[38;5;28;01mfor\u001b[39;00m _, i \u001b[38;5;129;01min\u001b[39;00m \u001b[38;5;28msorted\u001b[39m(res)]\n",
      "File \u001b[0;32m/usr/local/Cellar/python@3.9/3.9.13_1/Frameworks/Python.framework/Versions/3.9/lib/python3.9/asyncio/tasks.py:611\u001b[0m, in \u001b[0;36mas_completed.<locals>._wait_for_one\u001b[0;34m()\u001b[0m\n\u001b[1;32m    608\u001b[0m \u001b[38;5;28;01mif\u001b[39;00m f \u001b[38;5;129;01mis\u001b[39;00m \u001b[38;5;28;01mNone\u001b[39;00m:\n\u001b[1;32m    609\u001b[0m     \u001b[38;5;66;03m# Dummy value from _on_timeout().\u001b[39;00m\n\u001b[1;32m    610\u001b[0m     \u001b[38;5;28;01mraise\u001b[39;00m exceptions\u001b[38;5;241m.\u001b[39mTimeoutError\n\u001b[0;32m--> 611\u001b[0m \u001b[38;5;28;01mreturn\u001b[39;00m \u001b[43mf\u001b[49m\u001b[38;5;241;43m.\u001b[39;49m\u001b[43mresult\u001b[49m\u001b[43m(\u001b[49m\u001b[43m)\u001b[49m\n",
      "File \u001b[0;32m/usr/local/Cellar/python@3.9/3.9.13_1/Frameworks/Python.framework/Versions/3.9/lib/python3.9/asyncio/futures.py:201\u001b[0m, in \u001b[0;36mFuture.result\u001b[0;34m(self)\u001b[0m\n\u001b[1;32m    199\u001b[0m \u001b[38;5;28mself\u001b[39m\u001b[38;5;241m.\u001b[39m__log_traceback \u001b[38;5;241m=\u001b[39m \u001b[38;5;28;01mFalse\u001b[39;00m\n\u001b[1;32m    200\u001b[0m \u001b[38;5;28;01mif\u001b[39;00m \u001b[38;5;28mself\u001b[39m\u001b[38;5;241m.\u001b[39m_exception \u001b[38;5;129;01mis\u001b[39;00m \u001b[38;5;129;01mnot\u001b[39;00m \u001b[38;5;28;01mNone\u001b[39;00m:\n\u001b[0;32m--> 201\u001b[0m     \u001b[38;5;28;01mraise\u001b[39;00m \u001b[38;5;28mself\u001b[39m\u001b[38;5;241m.\u001b[39m_exception\n\u001b[1;32m    202\u001b[0m \u001b[38;5;28;01mreturn\u001b[39;00m \u001b[38;5;28mself\u001b[39m\u001b[38;5;241m.\u001b[39m_result\n",
      "File \u001b[0;32m/usr/local/Cellar/python@3.9/3.9.13_1/Frameworks/Python.framework/Versions/3.9/lib/python3.9/asyncio/tasks.py:258\u001b[0m, in \u001b[0;36mTask.__step\u001b[0;34m(***failed resolving arguments***)\u001b[0m\n\u001b[1;32m    256\u001b[0m         result \u001b[38;5;241m=\u001b[39m coro\u001b[38;5;241m.\u001b[39msend(\u001b[38;5;28;01mNone\u001b[39;00m)\n\u001b[1;32m    257\u001b[0m     \u001b[38;5;28;01melse\u001b[39;00m:\n\u001b[0;32m--> 258\u001b[0m         result \u001b[38;5;241m=\u001b[39m \u001b[43mcoro\u001b[49m\u001b[38;5;241;43m.\u001b[39;49m\u001b[43mthrow\u001b[49m\u001b[43m(\u001b[49m\u001b[43mexc\u001b[49m\u001b[43m)\u001b[49m\n\u001b[1;32m    259\u001b[0m \u001b[38;5;28;01mexcept\u001b[39;00m \u001b[38;5;167;01mStopIteration\u001b[39;00m \u001b[38;5;28;01mas\u001b[39;00m exc:\n\u001b[1;32m    260\u001b[0m     \u001b[38;5;28;01mif\u001b[39;00m \u001b[38;5;28mself\u001b[39m\u001b[38;5;241m.\u001b[39m_must_cancel:\n\u001b[1;32m    261\u001b[0m         \u001b[38;5;66;03m# Task is cancelled right before coro stops.\u001b[39;00m\n",
      "File \u001b[0;32m/usr/local/lib/python3.9/site-packages/tqdm/asyncio.py:76\u001b[0m, in \u001b[0;36mtqdm_asyncio.gather.<locals>.wrap_awaitable\u001b[0;34m(i, f)\u001b[0m\n\u001b[1;32m     75\u001b[0m \u001b[38;5;28;01masync\u001b[39;00m \u001b[38;5;28;01mdef\u001b[39;00m \u001b[38;5;21mwrap_awaitable\u001b[39m(i, f):\n\u001b[0;32m---> 76\u001b[0m     \u001b[38;5;28;01mreturn\u001b[39;00m i, \u001b[38;5;28;01mawait\u001b[39;00m f\n",
      "File \u001b[0;32m/usr/local/Cellar/python@3.9/3.9.13_1/Frameworks/Python.framework/Versions/3.9/lib/python3.9/asyncio/futures.py:284\u001b[0m, in \u001b[0;36mFuture.__await__\u001b[0;34m(self)\u001b[0m\n\u001b[1;32m    282\u001b[0m \u001b[38;5;28;01mif\u001b[39;00m \u001b[38;5;129;01mnot\u001b[39;00m \u001b[38;5;28mself\u001b[39m\u001b[38;5;241m.\u001b[39mdone():\n\u001b[1;32m    283\u001b[0m     \u001b[38;5;28mself\u001b[39m\u001b[38;5;241m.\u001b[39m_asyncio_future_blocking \u001b[38;5;241m=\u001b[39m \u001b[38;5;28;01mTrue\u001b[39;00m\n\u001b[0;32m--> 284\u001b[0m     \u001b[38;5;28;01myield\u001b[39;00m \u001b[38;5;28mself\u001b[39m  \u001b[38;5;66;03m# This tells Task to wait for completion.\u001b[39;00m\n\u001b[1;32m    285\u001b[0m \u001b[38;5;28;01mif\u001b[39;00m \u001b[38;5;129;01mnot\u001b[39;00m \u001b[38;5;28mself\u001b[39m\u001b[38;5;241m.\u001b[39mdone():\n\u001b[1;32m    286\u001b[0m     \u001b[38;5;28;01mraise\u001b[39;00m \u001b[38;5;167;01mRuntimeError\u001b[39;00m(\u001b[38;5;124m\"\u001b[39m\u001b[38;5;124mawait wasn\u001b[39m\u001b[38;5;124m'\u001b[39m\u001b[38;5;124mt used with future\u001b[39m\u001b[38;5;124m\"\u001b[39m)\n",
      "File \u001b[0;32m/usr/local/Cellar/python@3.9/3.9.13_1/Frameworks/Python.framework/Versions/3.9/lib/python3.9/asyncio/tasks.py:328\u001b[0m, in \u001b[0;36mTask.__wakeup\u001b[0;34m(self, future)\u001b[0m\n\u001b[1;32m    326\u001b[0m \u001b[38;5;28;01mdef\u001b[39;00m \u001b[38;5;21m__wakeup\u001b[39m(\u001b[38;5;28mself\u001b[39m, future):\n\u001b[1;32m    327\u001b[0m     \u001b[38;5;28;01mtry\u001b[39;00m:\n\u001b[0;32m--> 328\u001b[0m         \u001b[43mfuture\u001b[49m\u001b[38;5;241;43m.\u001b[39;49m\u001b[43mresult\u001b[49m\u001b[43m(\u001b[49m\u001b[43m)\u001b[49m\n\u001b[1;32m    329\u001b[0m     \u001b[38;5;28;01mexcept\u001b[39;00m \u001b[38;5;167;01mBaseException\u001b[39;00m \u001b[38;5;28;01mas\u001b[39;00m exc:\n\u001b[1;32m    330\u001b[0m         \u001b[38;5;66;03m# This may also be a cancellation.\u001b[39;00m\n\u001b[1;32m    331\u001b[0m         \u001b[38;5;28mself\u001b[39m\u001b[38;5;241m.\u001b[39m__step(exc)\n",
      "File \u001b[0;32m/usr/local/Cellar/python@3.9/3.9.13_1/Frameworks/Python.framework/Versions/3.9/lib/python3.9/asyncio/futures.py:201\u001b[0m, in \u001b[0;36mFuture.result\u001b[0;34m(self)\u001b[0m\n\u001b[1;32m    199\u001b[0m \u001b[38;5;28mself\u001b[39m\u001b[38;5;241m.\u001b[39m__log_traceback \u001b[38;5;241m=\u001b[39m \u001b[38;5;28;01mFalse\u001b[39;00m\n\u001b[1;32m    200\u001b[0m \u001b[38;5;28;01mif\u001b[39;00m \u001b[38;5;28mself\u001b[39m\u001b[38;5;241m.\u001b[39m_exception \u001b[38;5;129;01mis\u001b[39;00m \u001b[38;5;129;01mnot\u001b[39;00m \u001b[38;5;28;01mNone\u001b[39;00m:\n\u001b[0;32m--> 201\u001b[0m     \u001b[38;5;28;01mraise\u001b[39;00m \u001b[38;5;28mself\u001b[39m\u001b[38;5;241m.\u001b[39m_exception\n\u001b[1;32m    202\u001b[0m \u001b[38;5;28;01mreturn\u001b[39;00m \u001b[38;5;28mself\u001b[39m\u001b[38;5;241m.\u001b[39m_result\n",
      "File \u001b[0;32m/usr/local/Cellar/python@3.9/3.9.13_1/Frameworks/Python.framework/Versions/3.9/lib/python3.9/asyncio/tasks.py:256\u001b[0m, in \u001b[0;36mTask.__step\u001b[0;34m(***failed resolving arguments***)\u001b[0m\n\u001b[1;32m    252\u001b[0m \u001b[38;5;28;01mtry\u001b[39;00m:\n\u001b[1;32m    253\u001b[0m     \u001b[38;5;28;01mif\u001b[39;00m exc \u001b[38;5;129;01mis\u001b[39;00m \u001b[38;5;28;01mNone\u001b[39;00m:\n\u001b[1;32m    254\u001b[0m         \u001b[38;5;66;03m# We use the `send` method directly, because coroutines\u001b[39;00m\n\u001b[1;32m    255\u001b[0m         \u001b[38;5;66;03m# don't have `__iter__` and `__next__` methods.\u001b[39;00m\n\u001b[0;32m--> 256\u001b[0m         result \u001b[38;5;241m=\u001b[39m \u001b[43mcoro\u001b[49m\u001b[38;5;241;43m.\u001b[39;49m\u001b[43msend\u001b[49m\u001b[43m(\u001b[49m\u001b[38;5;28;43;01mNone\u001b[39;49;00m\u001b[43m)\u001b[49m\n\u001b[1;32m    257\u001b[0m     \u001b[38;5;28;01melse\u001b[39;00m:\n\u001b[1;32m    258\u001b[0m         result \u001b[38;5;241m=\u001b[39m coro\u001b[38;5;241m.\u001b[39mthrow(exc)\n",
      "File \u001b[0;32m/usr/local/lib/python3.9/site-packages/langchain_community/document_loaders/async_html.py:177\u001b[0m, in \u001b[0;36mAsyncHtmlLoader._fetch_with_rate_limit\u001b[0;34m(self, url, semaphore)\u001b[0m\n\u001b[1;32m    173\u001b[0m \u001b[38;5;28;01masync\u001b[39;00m \u001b[38;5;28;01mdef\u001b[39;00m \u001b[38;5;21m_fetch_with_rate_limit\u001b[39m(\n\u001b[1;32m    174\u001b[0m     \u001b[38;5;28mself\u001b[39m, url: \u001b[38;5;28mstr\u001b[39m, semaphore: asyncio\u001b[38;5;241m.\u001b[39mSemaphore\n\u001b[1;32m    175\u001b[0m ) \u001b[38;5;241m-\u001b[39m\u001b[38;5;241m>\u001b[39m \u001b[38;5;28mstr\u001b[39m:\n\u001b[1;32m    176\u001b[0m     \u001b[38;5;28;01masync\u001b[39;00m \u001b[38;5;28;01mwith\u001b[39;00m semaphore:\n\u001b[0;32m--> 177\u001b[0m         \u001b[38;5;28;01mreturn\u001b[39;00m \u001b[38;5;28;01mawait\u001b[39;00m \u001b[38;5;28mself\u001b[39m\u001b[38;5;241m.\u001b[39m_fetch(url)\n",
      "File \u001b[0;32m/usr/local/lib/python3.9/site-packages/langchain_community/document_loaders/async_html.py:148\u001b[0m, in \u001b[0;36mAsyncHtmlLoader._fetch\u001b[0;34m(self, url, retries, cooldown, backoff)\u001b[0m\n\u001b[1;32m    146\u001b[0m \u001b[38;5;28;01mfor\u001b[39;00m i \u001b[38;5;129;01min\u001b[39;00m \u001b[38;5;28mrange\u001b[39m(retries):\n\u001b[1;32m    147\u001b[0m     \u001b[38;5;28;01mtry\u001b[39;00m:\n\u001b[0;32m--> 148\u001b[0m         \u001b[38;5;28;01masync\u001b[39;00m \u001b[38;5;28;01mwith\u001b[39;00m session\u001b[38;5;241m.\u001b[39mget(\n\u001b[1;32m    149\u001b[0m             url,\n\u001b[1;32m    150\u001b[0m             headers\u001b[38;5;241m=\u001b[39m\u001b[38;5;28mself\u001b[39m\u001b[38;5;241m.\u001b[39msession\u001b[38;5;241m.\u001b[39mheaders,\n\u001b[1;32m    151\u001b[0m             ssl\u001b[38;5;241m=\u001b[39m\u001b[38;5;28;01mNone\u001b[39;00m \u001b[38;5;28;01mif\u001b[39;00m \u001b[38;5;28mself\u001b[39m\u001b[38;5;241m.\u001b[39msession\u001b[38;5;241m.\u001b[39mverify \u001b[38;5;28;01melse\u001b[39;00m \u001b[38;5;28;01mFalse\u001b[39;00m,\n\u001b[1;32m    152\u001b[0m         ) \u001b[38;5;28;01mas\u001b[39;00m response:\n\u001b[1;32m    153\u001b[0m             \u001b[38;5;28;01mtry\u001b[39;00m:\n\u001b[1;32m    154\u001b[0m                 text \u001b[38;5;241m=\u001b[39m \u001b[38;5;28;01mawait\u001b[39;00m response\u001b[38;5;241m.\u001b[39mtext()\n",
      "File \u001b[0;32m/usr/local/lib/python3.9/site-packages/aiohttp/client.py:1141\u001b[0m, in \u001b[0;36m_BaseRequestContextManager.__aenter__\u001b[0;34m(self)\u001b[0m\n\u001b[1;32m   1140\u001b[0m \u001b[38;5;28;01masync\u001b[39;00m \u001b[38;5;28;01mdef\u001b[39;00m \u001b[38;5;21m__aenter__\u001b[39m(\u001b[38;5;28mself\u001b[39m) \u001b[38;5;241m-\u001b[39m\u001b[38;5;241m>\u001b[39m _RetType:\n\u001b[0;32m-> 1141\u001b[0m     \u001b[38;5;28mself\u001b[39m\u001b[38;5;241m.\u001b[39m_resp \u001b[38;5;241m=\u001b[39m \u001b[38;5;28;01mawait\u001b[39;00m \u001b[38;5;28mself\u001b[39m\u001b[38;5;241m.\u001b[39m_coro\n\u001b[1;32m   1142\u001b[0m     \u001b[38;5;28;01mreturn\u001b[39;00m \u001b[38;5;28mself\u001b[39m\u001b[38;5;241m.\u001b[39m_resp\n",
      "File \u001b[0;32m/usr/local/lib/python3.9/site-packages/aiohttp/client.py:560\u001b[0m, in \u001b[0;36mClientSession._request\u001b[0;34m(self, method, str_or_url, params, data, json, cookies, headers, skip_auto_headers, auth, allow_redirects, max_redirects, compress, chunked, expect100, raise_for_status, read_until_eof, proxy, proxy_auth, timeout, verify_ssl, fingerprint, ssl_context, ssl, proxy_headers, trace_request_ctx, read_bufsize)\u001b[0m\n\u001b[1;32m    558\u001b[0m resp \u001b[38;5;241m=\u001b[39m \u001b[38;5;28;01mawait\u001b[39;00m req\u001b[38;5;241m.\u001b[39msend(conn)\n\u001b[1;32m    559\u001b[0m \u001b[38;5;28;01mtry\u001b[39;00m:\n\u001b[0;32m--> 560\u001b[0m     \u001b[38;5;28;01mawait\u001b[39;00m resp\u001b[38;5;241m.\u001b[39mstart(conn)\n\u001b[1;32m    561\u001b[0m \u001b[38;5;28;01mexcept\u001b[39;00m \u001b[38;5;167;01mBaseException\u001b[39;00m:\n\u001b[1;32m    562\u001b[0m     resp\u001b[38;5;241m.\u001b[39mclose()\n",
      "File \u001b[0;32m/usr/local/lib/python3.9/site-packages/aiohttp/client_reqrep.py:901\u001b[0m, in \u001b[0;36mClientResponse.start\u001b[0;34m(self, connection)\u001b[0m\n\u001b[1;32m    899\u001b[0m     message, payload \u001b[38;5;241m=\u001b[39m \u001b[38;5;28;01mawait\u001b[39;00m protocol\u001b[38;5;241m.\u001b[39mread()  \u001b[38;5;66;03m# type: ignore[union-attr]\u001b[39;00m\n\u001b[1;32m    900\u001b[0m \u001b[38;5;28;01mexcept\u001b[39;00m http\u001b[38;5;241m.\u001b[39mHttpProcessingError \u001b[38;5;28;01mas\u001b[39;00m exc:\n\u001b[0;32m--> 901\u001b[0m     \u001b[38;5;28;01mraise\u001b[39;00m ClientResponseError(\n\u001b[1;32m    902\u001b[0m         \u001b[38;5;28mself\u001b[39m\u001b[38;5;241m.\u001b[39mrequest_info,\n\u001b[1;32m    903\u001b[0m         \u001b[38;5;28mself\u001b[39m\u001b[38;5;241m.\u001b[39mhistory,\n\u001b[1;32m    904\u001b[0m         status\u001b[38;5;241m=\u001b[39mexc\u001b[38;5;241m.\u001b[39mcode,\n\u001b[1;32m    905\u001b[0m         message\u001b[38;5;241m=\u001b[39mexc\u001b[38;5;241m.\u001b[39mmessage,\n\u001b[1;32m    906\u001b[0m         headers\u001b[38;5;241m=\u001b[39mexc\u001b[38;5;241m.\u001b[39mheaders,\n\u001b[1;32m    907\u001b[0m     ) \u001b[38;5;28;01mfrom\u001b[39;00m \u001b[38;5;21;01mexc\u001b[39;00m\n\u001b[1;32m    909\u001b[0m \u001b[38;5;28;01mif\u001b[39;00m message\u001b[38;5;241m.\u001b[39mcode \u001b[38;5;241m<\u001b[39m \u001b[38;5;241m100\u001b[39m \u001b[38;5;129;01mor\u001b[39;00m message\u001b[38;5;241m.\u001b[39mcode \u001b[38;5;241m>\u001b[39m \u001b[38;5;241m199\u001b[39m \u001b[38;5;129;01mor\u001b[39;00m message\u001b[38;5;241m.\u001b[39mcode \u001b[38;5;241m==\u001b[39m \u001b[38;5;241m101\u001b[39m:\n\u001b[1;32m    910\u001b[0m     \u001b[38;5;28;01mbreak\u001b[39;00m\n",
      "\u001b[0;31mClientResponseError\u001b[0m: 400, message='Got more than 8190 bytes (8632) when reading Header value is too long.', url=URL('https://finance.yahoo.com/quote/TGT/news/')"
     ]
    }
   ],
   "source": [
    "from langchain_community.document_loaders import AsyncHtmlLoader\n",
    "\n",
    "urls = [\"https://finance.yahoo.com/quote/TGT/news/\"]\n",
    "loader = AsyncHtmlLoader(urls)\n",
    "docs = loader.load()"
   ]
  },
  {
   "cell_type": "code",
   "execution_count": 31,
   "id": "f43b628a",
   "metadata": {},
   "outputs": [],
   "source": [
    "from langchain.chains import create_extraction_chain\n",
    "\n",
    "schema = {\n",
    "    \"properties\": {\n",
    "        \"news_article_title\": {\"type\": \"string\"},\n",
    "        \"news_article_summary\": {\"type\": \"string\"},\n",
    "    },\n",
    "    \"required\": [\"news_article_title\", \"news_article_summary\"],\n",
    "}\n",
    "\n",
    "\n",
    "def extract(content: str, schema: dict):\n",
    "    return create_extraction_chain(schema=schema, llm=llm).run(content)"
   ]
  },
  {
   "cell_type": "code",
   "execution_count": 44,
   "id": "04edaa2d",
   "metadata": {},
   "outputs": [
    {
     "name": "stdout",
     "output_type": "stream",
     "text": [
      "Extracting content with LLM\n",
      "[{'news_article_summary': \"According to some retailers' earnings, Americans \"\n",
      "                          'seem to still be shopping while high inflation '\n",
      "                          'continues to batter their wallets. Telsey Advisory '\n",
      "                          'Group Founder and CEO Dana Telsey and UBS US '\n",
      "                          'Hardline & Broadline and Food Retail Analyst '\n",
      "                          'Michael Lasser offer two different perspectives on '\n",
      "                          'the US consumer. While Telsey believes consumers '\n",
      "                          'are \"in a good place\" and riding several economic '\n",
      "                          'headwinds, Lasser finds shoppers to be \"fatigued\" '\n",
      "                          'while spending \"[becomes] a bit more episodic.\" '\n",
      "                          'Turning their attention to Target (TGT) — which COO '\n",
      "                          'and CFO Michael Fiddelke told Yahoo Finance the '\n",
      "                          'chain finds consumers to be \"remarkably resilient\" '\n",
      "                          \"— the two analysts weigh in on the retailer's \"\n",
      "                          'latest earnings figures.',\n",
      "  'news_article_title': 'Americans still shopping despite high inflation, say '\n",
      "                        'retail analysts'},\n",
      " {'news_article_summary': 'Retailer Target (TGT) will launch its paid '\n",
      "                          'membership program Target Circle 360 — a '\n",
      "                          'subscription tier of its free Target Circle loyalty '\n",
      "                          'program — in April. Target Circle 360 will include '\n",
      "                          'incentives for shoppers like complimentary same-day '\n",
      "                          'shipping options. Target COO and CFO Michael '\n",
      "                          'Fiddelke sits down with Yahoo Finance Executive '\n",
      "                          'Editor Brian Sozzi to discuss the new membership '\n",
      "                          'program and how the company can leverage these '\n",
      "                          'perks to compete in the retail space.',\n",
      "  'news_article_title': 'Target to launch paid membership program Target '\n",
      "                        'Circle 360 in April'},\n",
      " {'news_article_summary': 'Shares of Target (TGT) are jumping Tuesday morning '\n",
      "                          'after the company posted its fourth quarter '\n",
      "                          'earnings, revealing a jump on higher sales and '\n",
      "                          'beating gross profit margin expectations. The '\n",
      "                          'company has made several changes to organize its '\n",
      "                          'stores and streamline costs. Yahoo Finance '\n",
      "                          'Executive Editor Brian Sozzi joins the Live show to '\n",
      "                          \"give insight into Target's business model and \"\n",
      "                          'discuss the competition the retailer faces from '\n",
      "                          'giants like Walmart (WMT) and Amazon Prime (AMZN).',\n",
      "  'news_article_title': 'Target beats Q4 sales and earnings estimates, stock '\n",
      "                        'jumps +12%'},\n",
      " {'news_article_summary': 'Target beat analyst estimates on Q4 sales and '\n",
      "                          'earnings as it works towards a brighter 2024. '\n",
      "                          \"Target (TGT) headlined Tuesday's trading session \"\n",
      "                          'with its stock spiking +12% after exceeding fourth '\n",
      "                          'quarter expectations this morning. Target, for '\n",
      "                          \"instance, is adding 300, Walmart, 150; Sam's Club, \"\n",
      "                          \"30; Bloomingdale's, 15 and Bluemercury at least \"\n",
      "                          \"30.  Walmart and Target have hailed consumers' \"\n",
      "                          'fondness for store pickup and delivery services for '\n",
      "                          'driving visits and sales in their most recent '\n",
      "                          'results.  Walmart said online order pickup and '\n",
      "                          'delivery offerings helped drive its traffic.',\n",
      "  'news_article_title': 'Target exceeds Q4 expectations, stock spikes +12%'}]\n"
     ]
    }
   ],
   "source": [
    "import pprint\n",
    "\n",
    "from langchain_text_splitters import RecursiveCharacterTextSplitter\n",
    "\n",
    "from langchain_openai import ChatOpenAI\n",
    "\n",
    "llm = ChatOpenAI(temperature=0, model=\"gpt-3.5-turbo-0613\")\n",
    "\n",
    "def scrape_with_playwright(urls, schema):\n",
    "    loader = AsyncChromiumLoader(urls)\n",
    "    docs = loader.load()\n",
    "    bs_transformer = BeautifulSoupTransformer()\n",
    "    docs_transformed = bs_transformer.transform_documents(\n",
    "        docs, tags_to_extract=[\"p\"]\n",
    "    )\n",
    "    print(\"Extracting content with LLM\")\n",
    "\n",
    "    # Grab the first 1000 tokens of the site\n",
    "    splitter = RecursiveCharacterTextSplitter.from_tiktoken_encoder(\n",
    "        chunk_size=1000, chunk_overlap=0\n",
    "    )\n",
    "    splits = splitter.split_documents(docs_transformed)\n",
    "\n",
    "    # Process the first split\n",
    "    extracted_content = extract(schema=schema, content=splits[0].page_content)\n",
    "    pprint.pprint(extracted_content)\n",
    "    return extracted_content\n",
    "\n",
    "\n",
    "urls = [\"https://finance.yahoo.com/quote/TGT/news/\"]\n",
    "extracted_content = scrape_with_playwright(urls, schema=schema)"
   ]
  },
  {
   "cell_type": "code",
   "execution_count": 47,
   "id": "c7a7589d",
   "metadata": {},
   "outputs": [
    {
     "name": "stdout",
     "output_type": "stream",
     "text": [
      "Extracting content with LLM\n",
      "[{'news_article_summary': \"Target's shares are somewhat volatile and over the \"\n",
      "                          'last year have had 1 moves greater than 5%. But '\n",
      "                          'moves this big are very rare even for Target and '\n",
      "                          'that is indicating to us that this news had a '\n",
      "                          \"significant impact on the market's perception of \"\n",
      "                          'the business. The biggest move we wrote about over '\n",
      "                          'the last year was 4 months ago, when the stock '\n",
      "                          'gained 14.8% on the news that the company reported '\n",
      "                          \"third quarter results that blew past analysts' EPS \"\n",
      "                          'expectations, driven by a small beat on revenue, '\n",
      "                          'better profitability, and a lower-than-expected tax '\n",
      "                          'rate. While same-store sales declined, the rate '\n",
      "                          \"exceeded analysts' expectations. The company also \"\n",
      "                          'generated healthy operating cash flows and '\n",
      "                          'repositioned its inventory into a healthier '\n",
      "                          \"position. Next quarter's EPS guidance was slightly \"\n",
      "                          'ahead of Consensus. Zooming out, we think this was '\n",
      "                          'an impressive quarter that should please '\n",
      "                          'shareholders, especially in light of some troubling '\n",
      "                          'consumer commentary from other companies. Target is '\n",
      "                          'up 16.9% since the beginning of the year, and at '\n",
      "                          '$167.38 per share it is trading close to its '\n",
      "                          '52-week high of $169.58 from April 2023. Investors '\n",
      "                          \"who bought $1,000 worth of Target's shares 5 years \"\n",
      "                          'ago would now be looking at an investment worth '\n",
      "                          '$2,202. Today’s young investors likely haven’t read '\n",
      "                          'the timeless lessons in Gorilla Game: Picking '\n",
      "                          'Winners In High Technology because it was written '\n",
      "                          'more than 20 years ago when Microsoft and Apple '\n",
      "                          'were first establishing their supremacy. But if we '\n",
      "                          'apply the same principles, then enterprise software '\n",
      "                          'stocks leveraging their own generative AI '\n",
      "                          'capabilities may well be the Gorillas of the '\n",
      "                          'future. So, in that spirit, we are excited to '\n",
      "                          'present our Special Free Report on a profitable, '\n",
      "                          'fast-growing enterprise software stock that is '\n",
      "                          'already riding the automation wave and looking to '\n",
      "                          'catch the generative AI next '\n",
      "                          '(https://stockstory.org/stock-pick-l/9b432064-0e9d-4b23-ac83-dbaef0f84b4e?utm_source=whyItMovesArticle&utm_medium=yahoo&utm_campaign=SP_5).',\n",
      "  'news_article_title': 'Shares of general merchandise retailer Target '\n",
      "                        '(NYSE:TGT) jumped 12.1% in the morning session after '\n",
      "                        'the company reported fourth quarter results which '\n",
      "                        \"blew past analysts' gross margin and operating profit \"\n",
      "                        'expectations, leading to EPS outperformance versus '\n",
      "                        'Wall Street estimates. On the other hand, its '\n",
      "                        'earnings forecast for the next quarter and the full '\n",
      "                        \"year ending January 2025 missed analysts' \"\n",
      "                        'expectations. Zooming out, this was still a decent, '\n",
      "                        'albeit mixed, quarter. Separately, Target announced a '\n",
      "                        'paid subscription program that could potentially '\n",
      "                        'boost revenue growth in the coming quarters. Target '\n",
      "                        'Circle 360, which will start in April 2024, offers '\n",
      "                        'perks for certain tiers, including unlimited free '\n",
      "                        'same-day delivery and free two-day shipping. This '\n",
      "                        'move follows a trend among retailers like Amazon and '\n",
      "                        'Walmart to use subscription fees to boost sales. '\n",
      "                        'Notably, Target already boasts over 100 million '\n",
      "                        'members on its free Target plan, indicating a '\n",
      "                        'significant potential market for the paid tier. Is '\n",
      "                        'now the time to buy Target? Access our full analysis '\n",
      "                        \"report here, it's free \"\n",
      "                        '(https://stockstory.org/nyse/tgt/research/target?utm_source=whyItMoves&utm_medium=yahoo&utm_campaign=company_link) '\n",
      "                        '.'}]\n"
     ]
    }
   ],
   "source": [
    "urls = [\"https://finance.yahoo.com/news/why-target-tgt-shares-soaring-164119968.html\"]\n",
    "extracted_content = scrape_with_playwright(urls, schema=schema)"
   ]
  },
  {
   "cell_type": "code",
   "execution_count": 49,
   "id": "33d23d39",
   "metadata": {},
   "outputs": [
    {
     "name": "stdout",
     "output_type": "stream",
     "text": [
      "Extracting content with LLM\n",
      "[{'news_article_summary': 'Apple is announcing a handful of smaller '\n",
      "                          'concessions driven by feedback from its app '\n",
      "                          'developer community. The company will no longer '\n",
      "                          'require that corporate entities must sign up for '\n",
      "                          'the new DMA terms along with all their '\n",
      "                          'sub-accounts.',\n",
      "  'news_article_title': \"Apple's new business terms designed to comply with \"\n",
      "                        \"the region's Digital Markets Act\"},\n",
      " {'news_article_summary': 'Piper Sandler Managing Director Craig Johnson '\n",
      "                          \"reduces the Magnificent Seven to 'the Fantastic \"\n",
      "                          \"Four,' noting declines in Apple (AAPL) and Tesla's \"\n",
      "                          '(TSLA) share prices.',\n",
      "  'news_article_title': 'The Magnificent Seven tech stocks'},\n",
      " {'news_article_summary': 'Europeans will get new choices for default browsers '\n",
      "                          'and search engines, where to download iPhone apps, '\n",
      "                          'and how their personal online data is used.',\n",
      "  'news_article_title': 'Europeans scrolling their phones and computers this '\n",
      "                        'week'},\n",
      " {'news_article_summary': \"Sales of Apple's iPhone plunged 24% year-over-year \"\n",
      "                          'in China in the first six weeks of 2024 due to '\n",
      "                          'stiff competition from rivals, especially Huawei.',\n",
      "  'news_article_title': 'Stocks came under pressure as a trio of tech '\n",
      "                        'heavyweights fell'}]\n"
     ]
    }
   ],
   "source": [
    "urls = [\"https://finance.yahoo.com/quote/AAPL/news/\"]\n",
    "extracted_content = scrape_with_playwright(urls, schema=schema)"
   ]
  },
  {
   "cell_type": "code",
   "execution_count": null,
   "id": "157bca65",
   "metadata": {},
   "outputs": [],
   "source": []
  }
 ],
 "metadata": {
  "kernelspec": {
   "display_name": "Python 3 (ipykernel)",
   "language": "python",
   "name": "python3"
  },
  "language_info": {
   "codemirror_mode": {
    "name": "ipython",
    "version": 3
   },
   "file_extension": ".py",
   "mimetype": "text/x-python",
   "name": "python",
   "nbconvert_exporter": "python",
   "pygments_lexer": "ipython3",
   "version": "3.9.13"
  }
 },
 "nbformat": 4,
 "nbformat_minor": 5
}
